{
 "cells": [
  {
   "cell_type": "markdown",
   "metadata": {},
   "source": [
    "# An example of a screening experiment\n",
    "Imagine an experiment to understand the relations between pH and Speed in determining the viscosity of a \n",
    "product. You want to find the variable that best shows a linear relationship with viscosity, while holding the \n",
    "other constant.  You know the approximate ranges to study (in real-life you would base this on the \n",
    "literature):\n",
    "\n",
    "pH: 3 to 9\n",
    "\n",
    "Speed: 20-90 rpm\n",
    "\n",
    "You will do this in two steps- first do small screening experiments to see the overall response of both \n",
    "variables on viscosity. Consider some of the screening designs you did above.  Repeat screens until you not only approximate the conditions for highest viscosity, but also identify one variable that gives a linear response, while holding the other constant. Then do a main experiment that allows you to do theoretical downstream statistical analyses (such as ANOVA and linear regression). Therefore, the main experiment should have replication and at least 3 levels of the variable you chose.  You have a total of 30 experimental units to divide between the screening and the main experiments. See the video for details.\n",
    "Present the results. What variable did you choose and why? Do the parameters chosen show a good \n",
    "linear response and include maximal viscosity?  Extra studies would use what we learned in the first part \n",
    "to do down-stream analyses on your final results.\n"
   ]
  },
  {
   "cell_type": "markdown",
   "metadata": {},
   "source": []
  }
 ],
 "metadata": {
  "language_info": {
   "name": "python"
  }
 },
 "nbformat": 4,
 "nbformat_minor": 2
}
