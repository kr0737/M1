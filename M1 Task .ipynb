{
 "cells": [
  {
   "cell_type": "markdown",
   "metadata": {},
   "source": [
    "### Import packages \n"
   ]
  },
  {
   "cell_type": "code",
   "execution_count": 26,
   "metadata": {},
   "outputs": [],
   "source": [
    "import pandas as pd \n",
    "import os\n",
    "import statsmodels.api as sm\n",
    "import matplotlib.pyplot as plt\n",
    "import seaborn as sns\n",
    "from statsmodels.formula.api import ols"
   ]
  },
  {
   "cell_type": "markdown",
   "metadata": {},
   "source": [
    "### Variables "
   ]
  },
  {
   "cell_type": "code",
   "execution_count": 27,
   "metadata": {},
   "outputs": [],
   "source": [
    "PROJ = 'M1 Task 1'\n",
    "doc = 'impurities_24-1.csv'\n",
    "categories = ['Day', 'Filtration', 'Surfactant', 'Sonication'] #Independent\n",
    "response = 'response' #Dependent"
   ]
  },
  {
   "cell_type": "markdown",
   "metadata": {},
   "source": [
    "### Dirs"
   ]
  },
  {
   "cell_type": "code",
   "execution_count": 28,
   "metadata": {},
   "outputs": [
    {
     "name": "stdout",
     "output_type": "stream",
     "text": [
      "Current cwd: /Users/kristianh/Documents/Skole/Chemometrics/M1\n"
     ]
    }
   ],
   "source": [
    "cwd = os.getcwd()\n",
    "print(\"Current cwd:\", cwd)\n",
    "cwd = cwd.replace(\"\\\\\", \"/\")\n",
    "projdir = cwd + '/Projects/' + PROJ + '/'\n",
    "resultsdir = projdir + 'ANOVA/'"
   ]
  },
  {
   "cell_type": "markdown",
   "metadata": {},
   "source": [
    "### Work folders "
   ]
  },
  {
   "cell_type": "code",
   "execution_count": 29,
   "metadata": {},
   "outputs": [],
   "source": [
    "folds = [projdir,resultsdir]\n",
    "for fold in folds:\n",
    "    if not os.path.exists(fold):\n",
    "        os.makedirs(fold)"
   ]
  },
  {
   "cell_type": "markdown",
   "metadata": {},
   "source": [
    "### Data"
   ]
  },
  {
   "cell_type": "code",
   "execution_count": 30,
   "metadata": {},
   "outputs": [
    {
     "name": "stdout",
     "output_type": "stream",
     "text": [
      "    day  filtration  surfactant  sonication  response\n",
      "0     1          25          20          10       261\n",
      "1     1          25          10           0       273\n",
      "2     1          25          20           0       243\n",
      "3     1          25          30           0       249\n",
      "4     1          25          30          10       246\n",
      "5     1          25          10          10       244\n",
      "6     1          50          30           0       255\n",
      "7     1          50          20          10       226\n",
      "8     1          50          10          10       239\n",
      "9     1          50          30          10       254\n",
      "10    1          50          10           0       288\n",
      "11    1          50          20           0       296\n",
      "12    1          75          30          10       221\n",
      "13    1          75          20          10       279\n",
      "14    1          75          10           0       280\n",
      "15    1          75          20           0       293\n",
      "16    1          75          30           0       229\n",
      "17    1          75          10          10       240\n",
      "18    1         100          10           0       275\n",
      "19    1         100          20           0       268\n",
      "20    1         100          30           0       290\n",
      "21    1         100          10          10       280\n",
      "22    1         100          20          10       275\n",
      "23    1         100          30          10       282\n",
      "24    2          25          20           0       127\n",
      "25    2          25          10          10       138\n",
      "26    2          25          30           0       157\n",
      "27    2          25          20          10       111\n",
      "28    2          25          10           0       182\n",
      "29    2          25          30          10       198\n",
      "30    2          50          30          10       221\n",
      "31    2          50          10           0       231\n",
      "32    2          50          20          10       240\n",
      "33    2          50          10          10       262\n",
      "34    2          50          20           0       286\n",
      "35    2          50          30           0       288\n",
      "36    2          75          10           0       366\n",
      "37    2          75          30          10       343\n",
      "38    2          75          10          10       385\n",
      "39    2          75          20          10       388\n",
      "40    2          75          30           0       400\n",
      "41    2          75          20           0       409\n",
      "42    2         100          20          10       394\n",
      "43    2         100          30           0       405\n",
      "44    2         100          30          10       431\n",
      "45    2         100          10           0       399\n",
      "46    2         100          20           0       453\n",
      "47    2         100          10          10       453\n"
     ]
    }
   ],
   "source": [
    "fil = projdir + doc \n",
    "df = pd.read_csv(fil, sep=\"\\t\")\n",
    "print(df)"
   ]
  },
  {
   "cell_type": "markdown",
   "metadata": {},
   "source": [
    "### ANOVA"
   ]
  },
  {
   "cell_type": "code",
   "execution_count": 31,
   "metadata": {},
   "outputs": [
    {
     "name": "stderr",
     "output_type": "stream",
     "text": [
      "/Users/kristianh/anaconda3/lib/python3.11/site-packages/seaborn/axisgrid.py:118: UserWarning: The figure layout has changed to tight\n",
      "  self._figure.tight_layout(*args, **kwargs)\n"
     ]
    },
    {
     "data": {
      "text/plain": [
       "<seaborn.axisgrid.FacetGrid at 0x161858c10>"
      ]
     },
     "execution_count": 31,
     "metadata": {},
     "output_type": "execute_result"
    },
    {
     "data": {
      "image/png": "[encoded data removed]",
      "text/plain": [
       "<Figure size 500x500 with 1 Axes>"
      ]
     },
     "metadata": {},
     "output_type": "display_data"
    }
   ],
   "source": [
    "Bins = 10 \n",
    "sns.displot(df['response'],color='orange',bins=Bins)"
   ]
  },
  {
   "cell_type": "code",
   "execution_count": 32,
   "metadata": {},
   "outputs": [
    {
     "data": {
      "text/plain": [
       "Text(0.5, 1.0, 'QQ Plot')"
      ]
     },
     "execution_count": 32,
     "metadata": {},
     "output_type": "execute_result"
    },
    {
     "data": {
      "image/png": "[encoded data removed]",
      "text/plain": [
       "<Figure size 640x480 with 1 Axes>"
      ]
     },
     "metadata": {},
     "output_type": "display_data"
    }
   ],
   "source": [
    "sm.qqplot(df['response'],line='s')\n",
    "plt.title('QQ Plot')\n"
   ]
  },
  {
   "cell_type": "code",
   "execution_count": 34,
   "metadata": {},
   "outputs": [
    {
     "name": "stdout",
     "output_type": "stream",
     "text": [
      "                                             sum_sq    df           F  \\\n",
      "day                                    20049.187500   1.0   22.082680   \n",
      "filtration                            153773.437500   1.0  169.369939   \n",
      "surfactant                               136.125000   1.0    0.149932   \n",
      "sonication                              2282.520833   1.0    2.514026   \n",
      "day:filtration                        111931.204167   1.0  123.283849   \n",
      "day:surfactant                           450.000000   1.0    0.495641   \n",
      "day:sonication                            58.520833   1.0    0.064456   \n",
      "filtration:surfactant                     78.400000   1.0    0.086352   \n",
      "filtration:sonication                    270.937500   1.0    0.298417   \n",
      "surfactant:sonication                     18.000000   1.0    0.019826   \n",
      "day:filtration:surfactant                366.025000   1.0    0.403149   \n",
      "day:filtration:sonication                  4.004167   1.0    0.004410   \n",
      "day:surfactant:sonication               1378.125000   1.0    1.517902   \n",
      "filtration:surfactant:sonication        1265.625000   1.0    1.393991   \n",
      "day:filtration:surfactant:sonication     211.600000   1.0    0.233062   \n",
      "Residual                               29053.266667  32.0         NaN   \n",
      "\n",
      "                                            PR(>F)  \n",
      "day                                   4.753356e-05  \n",
      "filtration                            2.509889e-14  \n",
      "surfactant                            7.011642e-01  \n",
      "sonication                            1.226712e-01  \n",
      "day:filtration                        1.648935e-12  \n",
      "day:surfactant                        4.865135e-01  \n",
      "day:sonication                        8.012106e-01  \n",
      "filtration:surfactant                 7.707650e-01  \n",
      "filtration:sonication                 5.886651e-01  \n",
      "surfactant:sonication                 8.889077e-01  \n",
      "day:filtration:surfactant             5.299815e-01  \n",
      "day:filtration:sonication             9.474646e-01  \n",
      "day:surfactant:sonication             2.269139e-01  \n",
      "filtration:surfactant:sonication      2.464340e-01  \n",
      "day:filtration:surfactant:sonication  6.325493e-01  \n",
      "Residual                                       NaN  \n"
     ]
    }
   ],
   "source": [
    "mystring = 'response ~ (day + filtration + surfactant + sonication) ** 4'\n",
    "\n",
    "model = ols(mystring, data = df).fit()\n",
    "anova_table = sm.stats.anova_lm(model, typ =2)\n",
    "print(anova_table)"
   ]
  },
  {
   "cell_type": "code",
   "execution_count": null,
   "metadata": {},
   "outputs": [],
   "source": []
  }
 ],
 "metadata": {
  "kernelspec": {
   "display_name": "base",
   "language": "python",
   "name": "python3"
  },
  "language_info": {
   "codemirror_mode": {
    "name": "ipython",
    "version": 3
   },
   "file_extension": ".py",
   "mimetype": "text/x-python",
   "name": "python",
   "nbconvert_exporter": "python",
   "pygments_lexer": "ipython3",
   "version": "3.11.5"
  }
 },
 "nbformat": 4,
 "nbformat_minor": 2
}
