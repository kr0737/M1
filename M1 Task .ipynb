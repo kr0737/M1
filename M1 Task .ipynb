{
 "cells": [
  {
   "cell_type": "markdown",
   "metadata": {},
   "source": [
    "### Import packages \n"
   ]
  },
  {
   "cell_type": "code",
   "execution_count": 1,
   "metadata": {},
   "outputs": [],
   "source": [
    "import pandas as pd \n",
    "import os\n",
    "import statsmodels.api as sm\n",
    "import matplotlib.pyplot as plt\n",
    "import seaborn as sns\n",
    "from statsmodels.formula.api import ols"
   ]
  },
  {
   "cell_type": "code",
   "execution_count": 9,
   "metadata": {},
   "outputs": [
    {
     "name": "stdout",
     "output_type": "stream",
     "text": [
      "Package                       Version\n",
      "----------------------------- --------------\n",
      "aiohappyeyeballs              2.4.0\n",
      "aiohttp                       3.10.5\n",
      "aiosignal                     1.3.1\n",
      "alabaster                     1.0.0\n",
      "arrow                         1.3.0\n",
      "astroid                       3.2.4\n",
      "asttokens                     2.4.1\n",
      "atomicwrites                  1.4.1\n",
      "attrs                         24.2.0\n",
      "autopep8                      2.0.4\n",
      "Babel                         2.14.0\n",
      "backports.tarfile             1.0.0\n",
      "bcrypt                        4.2.0\n",
      "beautifulsoup4                4.12.3\n",
      "binaryornot                   0.4.4\n",
      "black                         24.8.0\n",
      "bleach                        6.1.0\n",
      "Bottleneck                    1.3.7\n",
      "Brotli                        1.1.0\n",
      "certifi                       2024.7.4\n",
      "cffi                          1.17.0\n",
      "chardet                       5.2.0\n",
      "charset-normalizer            3.3.2\n",
      "chemometrics                  0.4.0\n",
      "chemotools                    0.1.5\n",
      "click                         8.1.7\n",
      "cloudpickle                   3.0.0\n",
      "colorama                      0.4.6\n",
      "comm                          0.2.1\n",
      "contourpy                     1.2.1\n",
      "cookiecutter                  2.6.0\n",
      "cryptography                  43.0.0\n",
      "cycler                        0.12.1\n",
      "datasets                      2.21.0\n",
      "debugpy                       1.8.0\n",
      "decorator                     5.1.1\n",
      "defusedxml                    0.7.1\n",
      "diff-match-patch              20230430\n",
      "dill                          0.3.8\n",
      "docstring-to-markdown         0.15\n",
      "docutils                      0.21.2\n",
      "entrypoints                   0.4\n",
      "exceptiongroup                1.2.2\n",
      "executing                     2.0.1\n",
      "fastjsonschema                2.20.0\n",
      "filelock                      3.15.4\n",
      "flake8                        7.0.0\n",
      "fonttools                     4.53.1\n",
      "frozenlist                    1.4.1\n",
      "fsspec                        2024.6.1\n",
      "h2                            4.1.0\n",
      "hpack                         4.0.0\n",
      "huggingface-hub               0.24.6\n",
      "hyperframe                    6.0.1\n",
      "idna                          3.8\n",
      "imagesize                     1.4.1\n",
      "importlib_metadata            8.4.0\n",
      "importlib_resources           6.4.4\n",
      "inflection                    0.5.1\n",
      "intervaltree                  3.1.0\n",
      "ipykernel                     6.29.2\n",
      "ipython                       8.21.0\n",
      "isort                         5.13.2\n",
      "jaraco.classes                3.4.0\n",
      "jaraco.context                5.3.0\n",
      "jaraco.functools              4.0.0\n",
      "jedi                          0.19.1\n",
      "jellyfish                     1.1.0\n",
      "Jinja2                        3.1.4\n",
      "joblib                        1.4.2\n",
      "jsonschema                    4.23.0\n",
      "jsonschema-specifications     2023.12.1\n",
      "jupyter_client                8.6.0\n",
      "jupyter_core                  5.7.1\n",
      "jupyterlab_pygments           0.3.0\n",
      "keyring                       25.3.0\n",
      "kiwisolver                    1.4.5\n",
      "markdown-it-py                3.0.0\n",
      "MarkupSafe                    2.1.5\n",
      "matplotlib                    3.9.2\n",
      "matplotlib-inline             0.1.6\n",
      "mccabe                        0.7.0\n",
      "mdurl                         0.1.2\n",
      "mistune                       3.0.2\n",
      "more-itertools                10.4.0\n",
      "multidict                     6.0.5\n",
      "multiprocess                  0.70.16\n",
      "munkres                       1.1.4\n",
      "mypy-extensions               1.0.0\n",
      "nbclient                      0.10.0\n",
      "nbconvert                     7.16.4\n",
      "nbformat                      5.10.4\n",
      "nest-asyncio                  1.6.0\n",
      "numexpr                       2.8.7\n",
      "numpy                         1.26.4\n",
      "numpydoc                      1.8.0\n",
      "packaging                     23.2\n",
      "pandas                        2.2.2\n",
      "pandocfilters                 1.5.0\n",
      "paramiko                      3.4.1\n",
      "parso                         0.8.3\n",
      "pathspec                      0.12.1\n",
      "patsy                         0.5.6\n",
      "pexpect                       4.9.0\n",
      "pickleshare                   0.7.5\n",
      "pillow                        10.4.0\n",
      "pip                           24.2\n",
      "pkgutil_resolve_name          1.3.10\n",
      "platformdirs                  4.2.0\n",
      "pluggy                        1.5.0\n",
      "ply                           3.11\n",
      "polars                        1.6.0\n",
      "prompt-toolkit                3.0.43\n",
      "psutil                        5.9.8\n",
      "ptyprocess                    0.7.0\n",
      "pure-eval                     0.2.2\n",
      "pyarrow                       17.0.0\n",
      "pycodestyle                   2.11.1\n",
      "pycparser                     2.22\n",
      "pydocstyle                    6.3.0\n",
      "pyflakes                      3.2.0\n",
      "Pygments                      2.17.2\n",
      "pylint                        3.2.6\n",
      "pylint-venv                   3.0.3\n",
      "pyls-spyder                   0.4.0\n",
      "PyNaCl                        1.5.0\n",
      "pyparsing                     3.1.4\n",
      "PyQt5                         5.15.9\n",
      "PyQt5-sip                     12.12.2\n",
      "PyQtWebEngine                 5.15.4\n",
      "PySide6                       6.7.2\n",
      "PySocks                       1.7.1\n",
      "python-dateutil               2.8.2\n",
      "python-lsp-black              2.0.0\n",
      "python-lsp-jsonrpc            1.1.2\n",
      "python-lsp-server             1.11.0\n",
      "python-slugify                8.0.4\n",
      "pytoolconfig                  1.2.5\n",
      "pytz                          2024.1\n",
      "pywin32                       306\n",
      "pywin32-ctypes                0.2.3\n",
      "PyYAML                        6.0.2\n",
      "pyzmq                         25.1.2\n",
      "QDarkStyle                    3.2.3\n",
      "qstylizer                     0.2.3\n",
      "QtAwesome                     1.3.1\n",
      "qtconsole                     5.5.2\n",
      "QtPy                          2.4.1\n",
      "referencing                   0.35.1\n",
      "requests                      2.32.3\n",
      "rich                          13.7.1\n",
      "rope                          1.13.0\n",
      "rpds-py                       0.20.0\n",
      "Rtree                         1.3.0\n",
      "scikit-learn                  1.5.1\n",
      "scipy                         1.14.1\n",
      "seaborn                       0.13.2\n",
      "setuptools                    72.1.0\n",
      "shiboken6                     6.7.2\n",
      "sip                           6.7.12\n",
      "six                           1.16.0\n",
      "snowballstemmer               2.2.0\n",
      "sortedcontainers              2.4.0\n",
      "soupsieve                     2.5\n",
      "Sphinx                        8.0.2\n",
      "sphinxcontrib-applehelp       2.0.0\n",
      "sphinxcontrib-devhelp         2.0.0\n",
      "sphinxcontrib-htmlhelp        2.1.0\n",
      "sphinxcontrib-jsmath          1.0.1\n",
      "sphinxcontrib-qthelp          2.0.0\n",
      "sphinxcontrib-serializinghtml 1.1.10\n",
      "spyder                        5.5.5\n",
      "spyder-kernels                2.5.2\n",
      "stack-data                    0.6.3\n",
      "statsmodels                   0.14.2\n",
      "tabulate                      0.9.0\n",
      "text-unidecode                1.3\n",
      "textdistance                  4.6.3\n",
      "threadpoolctl                 3.5.0\n",
      "three-merge                   0.1.1\n",
      "tinycss2                      1.3.0\n",
      "toml                          0.10.2\n",
      "tomli                         2.0.1\n",
      "tomlkit                       0.13.2\n",
      "tornado                       6.4\n",
      "tqdm                          4.66.5\n",
      "traitlets                     5.14.1\n",
      "types-python-dateutil         2.9.0.20240821\n",
      "typing_extensions             4.12.2\n",
      "tzdata                        2023.3\n",
      "ujson                         5.10.0\n",
      "urllib3                       2.2.2\n",
      "watchdog                      4.0.1\n",
      "wcwidth                       0.2.13\n",
      "webencodings                  0.5.1\n",
      "whatthepatch                  1.0.6\n",
      "wheel                         0.43.0\n",
      "win-inet-pton                 1.1.0\n",
      "xxhash                        3.5.0\n",
      "yapf                          0.40.1\n",
      "yarl                          1.9.7\n",
      "zipp                          3.20.0\n",
      "zstandard                     0.23.0\n"
     ]
    }
   ],
   "source": [
    "!pip list"
   ]
  },
  {
   "cell_type": "markdown",
   "metadata": {},
   "source": [
    "### Variables "
   ]
  },
  {
   "cell_type": "code",
   "execution_count": 2,
   "metadata": {},
   "outputs": [],
   "source": [
    "PROJ = 'M1 Task 1'\n",
    "doc = 'impurities_24-1.csv'\n",
    "categories = ['Day', 'Filtration', 'Surfactant', 'Sonication'] #Independent\n",
    "response = 'response' #Dependent"
   ]
  },
  {
   "cell_type": "markdown",
   "metadata": {},
   "source": [
    "### Dirs"
   ]
  },
  {
   "cell_type": "code",
   "execution_count": 3,
   "metadata": {},
   "outputs": [
    {
     "name": "stdout",
     "output_type": "stream",
     "text": [
      "Current cwd: e:\\Year_2_Semester_1\\chemometrics\\Exercises\\M1\n"
     ]
    }
   ],
   "source": [
    "cwd = os.getcwd()\n",
    "print(\"Current cwd:\", cwd)\n",
    "cwd = cwd.replace(\"\\\\\", \"/\")\n",
    "projdir = cwd + '/Projects/' + PROJ + '/'\n",
    "resultsdir = projdir + 'ANOVA/'"
   ]
  },
  {
   "cell_type": "markdown",
   "metadata": {},
   "source": [
    "### Work folders "
   ]
  },
  {
   "cell_type": "code",
   "execution_count": 4,
   "metadata": {},
   "outputs": [],
   "source": [
    "folds = [projdir,resultsdir]\n",
    "for fold in folds:\n",
    "    if not os.path.exists(fold):\n",
    "        os.makedirs(fold)"
   ]
  },
  {
   "cell_type": "markdown",
   "metadata": {},
   "source": [
    "### Data"
   ]
  },
  {
   "cell_type": "code",
   "execution_count": 5,
   "metadata": {},
   "outputs": [
    {
     "name": "stdout",
     "output_type": "stream",
     "text": [
      "    day  filtration  surfactant  sonication  response\n",
      "0     1          25          20          10       261\n",
      "1     1          25          10           0       273\n",
      "2     1          25          20           0       243\n",
      "3     1          25          30           0       249\n",
      "4     1          25          30          10       246\n",
      "5     1          25          10          10       244\n",
      "6     1          50          30           0       255\n",
      "7     1          50          20          10       226\n",
      "8     1          50          10          10       239\n",
      "9     1          50          30          10       254\n",
      "10    1          50          10           0       288\n",
      "11    1          50          20           0       296\n",
      "12    1          75          30          10       221\n",
      "13    1          75          20          10       279\n",
      "14    1          75          10           0       280\n",
      "15    1          75          20           0       293\n",
      "16    1          75          30           0       229\n",
      "17    1          75          10          10       240\n",
      "18    1         100          10           0       275\n",
      "19    1         100          20           0       268\n",
      "20    1         100          30           0       290\n",
      "21    1         100          10          10       280\n",
      "22    1         100          20          10       275\n",
      "23    1         100          30          10       282\n",
      "24    2          25          20           0       127\n",
      "25    2          25          10          10       138\n",
      "26    2          25          30           0       157\n",
      "27    2          25          20          10       111\n",
      "28    2          25          10           0       182\n",
      "29    2          25          30          10       198\n",
      "30    2          50          30          10       221\n",
      "31    2          50          10           0       231\n",
      "32    2          50          20          10       240\n",
      "33    2          50          10          10       262\n",
      "34    2          50          20           0       286\n",
      "35    2          50          30           0       288\n",
      "36    2          75          10           0       366\n",
      "37    2          75          30          10       343\n",
      "38    2          75          10          10       385\n",
      "39    2          75          20          10       388\n",
      "40    2          75          30           0       400\n",
      "41    2          75          20           0       409\n",
      "42    2         100          20          10       394\n",
      "43    2         100          30           0       405\n",
      "44    2         100          30          10       431\n",
      "45    2         100          10           0       399\n",
      "46    2         100          20           0       453\n",
      "47    2         100          10          10       453\n"
     ]
    }
   ],
   "source": [
    "fil = projdir + doc \n",
    "df = pd.read_csv(fil, sep=\"\\t\")\n",
    "print(df)"
   ]
  },
  {
   "cell_type": "markdown",
   "metadata": {},
   "source": [
    "### ANOVA"
   ]
  },
  {
   "cell_type": "code",
   "execution_count": 6,
   "metadata": {},
   "outputs": [
    {
     "data": {
      "text/plain": [
       "<seaborn.axisgrid.FacetGrid at 0x1b9b489a510>"
      ]
     },
     "execution_count": 6,
     "metadata": {},
     "output_type": "execute_result"
    },
    {
     "data": {
      "image/png": "[encoded data removed]",
      "text/plain": [
       "<Figure size 500x500 with 1 Axes>"
      ]
     },
     "metadata": {},
     "output_type": "display_data"
    }
   ],
   "source": [
    "Bins = 10 \n",
    "sns.displot(df['response'],color='orange',bins=Bins)"
   ]
  },
  {
   "cell_type": "code",
   "execution_count": 7,
   "metadata": {},
   "outputs": [
    {
     "data": {
      "text/plain": [
       "Text(0.5, 1.0, 'QQ Plot')"
      ]
     },
     "execution_count": 7,
     "metadata": {},
     "output_type": "execute_result"
    },
    {
     "data": {
      "image/png": "[encoded data removed]",
      "text/plain": [
       "<Figure size 640x480 with 1 Axes>"
      ]
     },
     "metadata": {},
     "output_type": "display_data"
    }
   ],
   "source": [
    "sm.qqplot(df['response'],line='s')\n",
    "plt.title('QQ Plot')\n"
   ]
  },
  {
   "cell_type": "code",
   "execution_count": 8,
   "metadata": {},
   "outputs": [
    {
     "name": "stdout",
     "output_type": "stream",
     "text": [
      "                                             sum_sq    df           F  \\\n",
      "day                                    20049.187500   1.0   22.082680   \n",
      "filtration                            153773.437500   1.0  169.369939   \n",
      "surfactant                               136.125000   1.0    0.149932   \n",
      "sonication                              2282.520834   1.0    2.514026   \n",
      "day:filtration                        111931.204167   1.0  123.283849   \n",
      "day:surfactant                           450.000000   1.0    0.495641   \n",
      "day:sonication                            58.520833   1.0    0.064456   \n",
      "filtration:surfactant                     78.400000   1.0    0.086352   \n",
      "filtration:sonication                    270.937500   1.0    0.298417   \n",
      "surfactant:sonication                     18.000000   1.0    0.019826   \n",
      "day:filtration:surfactant                366.025000   1.0    0.403149   \n",
      "day:filtration:sonication                  4.004167   1.0    0.004410   \n",
      "day:surfactant:sonication               1378.125000   1.0    1.517902   \n",
      "filtration:surfactant:sonication        1265.625000   1.0    1.393991   \n",
      "day:filtration:surfactant:sonication     211.600000   1.0    0.233062   \n",
      "Residual                               29053.266667  32.0         NaN   \n",
      "\n",
      "                                            PR(>F)  \n",
      "day                                   4.753356e-05  \n",
      "filtration                            2.509889e-14  \n",
      "surfactant                            7.011642e-01  \n",
      "sonication                            1.226712e-01  \n",
      "day:filtration                        1.648935e-12  \n",
      "day:surfactant                        4.865135e-01  \n",
      "day:sonication                        8.012106e-01  \n",
      "filtration:surfactant                 7.707650e-01  \n",
      "filtration:sonication                 5.886651e-01  \n",
      "surfactant:sonication                 8.889077e-01  \n",
      "day:filtration:surfactant             5.299815e-01  \n",
      "day:filtration:sonication             9.474646e-01  \n",
      "day:surfactant:sonication             2.269139e-01  \n",
      "filtration:surfactant:sonication      2.464340e-01  \n",
      "day:filtration:surfactant:sonication  6.325493e-01  \n",
      "Residual                                       NaN  \n"
     ]
    }
   ],
   "source": [
    "mystring = 'response ~ (day + filtration + surfactant + sonication) ** 4'\n",
    "\n",
    "model = ols(mystring, data = df).fit()\n",
    "anova_table = sm.stats.anova_lm(model, typ =2)\n",
    "print(anova_table)"
   ]
  },
  {
   "cell_type": "code",
   "execution_count": null,
   "metadata": {},
   "outputs": [],
   "source": []
  }
 ],
 "metadata": {
  "kernelspec": {
   "display_name": "base",
   "language": "python",
   "name": "python3"
  },
  "language_info": {
   "codemirror_mode": {
    "name": "ipython",
    "version": 3
   },
   "file_extension": ".py",
   "mimetype": "text/x-python",
   "name": "python",
   "nbconvert_exporter": "python",
   "pygments_lexer": "ipython3",
   "version": "3.12.5"
  }
 },
 "nbformat": 4,
 "nbformat_minor": 2
}
