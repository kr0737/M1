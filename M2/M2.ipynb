{
 "cells": [
  {
   "cell_type": "markdown",
   "metadata": {},
   "source": [
    "# Screening tests up to 30 experiment units "
   ]
  },
  {
   "cell_type": "markdown",
   "metadata": {},
   "source": [
    "independent variables: pH: 3 to 9  Speed: 20-100 rpm\n",
    "\n",
    "dependent variable: viscosity \n",
    "\n",
    "screening tests up to 30 experiement units to  identify the key regions where pH and Speed have the most significant effect on viscosity.\n",
    "\n",
    "\n"
   ]
  },
  {
   "cell_type": "code",
   "execution_count": null,
   "metadata": {},
   "outputs": [],
   "source": []
  },
  {
   "cell_type": "markdown",
   "metadata": {},
   "source": [
    "## Doe \n",
    "\n",
    "## the reason why we choose fractoral factor design \n",
    "\n"
   ]
  },
  {
   "cell_type": "code",
   "execution_count": 1,
   "metadata": {},
   "outputs": [
    {
     "name": "stdout",
     "output_type": "stream",
     "text": [
      "Requirement already satisfied: doepy in d:\\software\\anaconda\\envs\\winconda\\lib\\site-packages (0.0.1)\n",
      "Requirement already satisfied: pyDOE in d:\\software\\anaconda\\envs\\winconda\\lib\\site-packages (from doepy) (0.3.8)\n",
      "Requirement already satisfied: numpy in d:\\software\\anaconda\\envs\\winconda\\lib\\site-packages (from doepy) (1.26.4)\n",
      "Requirement already satisfied: pandas in d:\\software\\anaconda\\envs\\winconda\\lib\\site-packages (from doepy) (2.2.2)\n",
      "Requirement already satisfied: diversipy in d:\\software\\anaconda\\envs\\winconda\\lib\\site-packages (from doepy) (0.9)\n",
      "Requirement already satisfied: scipy in d:\\software\\anaconda\\envs\\winconda\\lib\\site-packages (from diversipy->doepy) (1.14.1)\n",
      "Requirement already satisfied: python-dateutil>=2.8.2 in c:\\users\\yao_l\\appdata\\roaming\\python\\python312\\site-packages (from pandas->doepy) (2.8.2)\n",
      "Requirement already satisfied: pytz>=2020.1 in d:\\software\\anaconda\\envs\\winconda\\lib\\site-packages (from pandas->doepy) (2024.1)\n",
      "Requirement already satisfied: tzdata>=2022.7 in d:\\software\\anaconda\\envs\\winconda\\lib\\site-packages (from pandas->doepy) (2023.3)\n",
      "Requirement already satisfied: six>=1.5 in c:\\users\\yao_l\\appdata\\roaming\\python\\python312\\site-packages (from python-dateutil>=2.8.2->pandas->doepy) (1.16.0)\n",
      "Note: you may need to restart the kernel to use updated packages.\n",
      "Requirement already satisfied: ipympl in d:\\software\\anaconda\\envs\\winconda\\lib\\site-packages (0.9.4)\n",
      "Requirement already satisfied: ipython-genutils in d:\\software\\anaconda\\envs\\winconda\\lib\\site-packages (from ipympl) (0.2.0)\n",
      "Requirement already satisfied: ipython<9 in c:\\users\\yao_l\\appdata\\roaming\\python\\python312\\site-packages (from ipympl) (8.21.0)\n",
      "Requirement already satisfied: ipywidgets<9,>=7.6.0 in d:\\software\\anaconda\\envs\\winconda\\lib\\site-packages (from ipympl) (8.1.5)\n",
      "Requirement already satisfied: matplotlib<4,>=3.4.0 in d:\\software\\anaconda\\envs\\winconda\\lib\\site-packages (from ipympl) (3.9.2)\n",
      "Requirement already satisfied: numpy in d:\\software\\anaconda\\envs\\winconda\\lib\\site-packages (from ipympl) (1.26.4)\n",
      "Requirement already satisfied: pillow in d:\\software\\anaconda\\envs\\winconda\\lib\\site-packages (from ipympl) (10.4.0)\n",
      "Requirement already satisfied: traitlets<6 in c:\\users\\yao_l\\appdata\\roaming\\python\\python312\\site-packages (from ipympl) (5.14.1)\n",
      "Requirement already satisfied: decorator in c:\\users\\yao_l\\appdata\\roaming\\python\\python312\\site-packages (from ipython<9->ipympl) (5.1.1)\n",
      "Requirement already satisfied: jedi>=0.16 in c:\\users\\yao_l\\appdata\\roaming\\python\\python312\\site-packages (from ipython<9->ipympl) (0.19.1)\n",
      "Requirement already satisfied: matplotlib-inline in c:\\users\\yao_l\\appdata\\roaming\\python\\python312\\site-packages (from ipython<9->ipympl) (0.1.6)\n",
      "Requirement already satisfied: prompt-toolkit<3.1.0,>=3.0.41 in c:\\users\\yao_l\\appdata\\roaming\\python\\python312\\site-packages (from ipython<9->ipympl) (3.0.43)\n",
      "Requirement already satisfied: pygments>=2.4.0 in c:\\users\\yao_l\\appdata\\roaming\\python\\python312\\site-packages (from ipython<9->ipympl) (2.17.2)\n",
      "Requirement already satisfied: stack-data in c:\\users\\yao_l\\appdata\\roaming\\python\\python312\\site-packages (from ipython<9->ipympl) (0.6.3)\n",
      "Requirement already satisfied: colorama in c:\\users\\yao_l\\appdata\\roaming\\python\\python312\\site-packages (from ipython<9->ipympl) (0.4.6)\n",
      "Requirement already satisfied: comm>=0.1.3 in c:\\users\\yao_l\\appdata\\roaming\\python\\python312\\site-packages (from ipywidgets<9,>=7.6.0->ipympl) (0.2.1)\n",
      "Requirement already satisfied: widgetsnbextension~=4.0.12 in d:\\software\\anaconda\\envs\\winconda\\lib\\site-packages (from ipywidgets<9,>=7.6.0->ipympl) (4.0.13)\n",
      "Requirement already satisfied: jupyterlab-widgets~=3.0.12 in d:\\software\\anaconda\\envs\\winconda\\lib\\site-packages (from ipywidgets<9,>=7.6.0->ipympl) (3.0.13)\n",
      "Requirement already satisfied: contourpy>=1.0.1 in d:\\software\\anaconda\\envs\\winconda\\lib\\site-packages (from matplotlib<4,>=3.4.0->ipympl) (1.2.1)\n",
      "Requirement already satisfied: cycler>=0.10 in d:\\software\\anaconda\\envs\\winconda\\lib\\site-packages (from matplotlib<4,>=3.4.0->ipympl) (0.12.1)\n",
      "Requirement already satisfied: fonttools>=4.22.0 in d:\\software\\anaconda\\envs\\winconda\\lib\\site-packages (from matplotlib<4,>=3.4.0->ipympl) (4.53.1)\n",
      "Requirement already satisfied: kiwisolver>=1.3.1 in d:\\software\\anaconda\\envs\\winconda\\lib\\site-packages (from matplotlib<4,>=3.4.0->ipympl) (1.4.5)\n",
      "Requirement already satisfied: packaging>=20.0 in c:\\users\\yao_l\\appdata\\roaming\\python\\python312\\site-packages (from matplotlib<4,>=3.4.0->ipympl) (23.2)\n",
      "Requirement already satisfied: pyparsing>=2.3.1 in d:\\software\\anaconda\\envs\\winconda\\lib\\site-packages (from matplotlib<4,>=3.4.0->ipympl) (3.1.4)\n",
      "Requirement already satisfied: python-dateutil>=2.7 in c:\\users\\yao_l\\appdata\\roaming\\python\\python312\\site-packages (from matplotlib<4,>=3.4.0->ipympl) (2.8.2)\n",
      "Requirement already satisfied: parso<0.9.0,>=0.8.3 in c:\\users\\yao_l\\appdata\\roaming\\python\\python312\\site-packages (from jedi>=0.16->ipython<9->ipympl) (0.8.3)\n",
      "Requirement already satisfied: wcwidth in c:\\users\\yao_l\\appdata\\roaming\\python\\python312\\site-packages (from prompt-toolkit<3.1.0,>=3.0.41->ipython<9->ipympl) (0.2.13)\n",
      "Requirement already satisfied: six>=1.5 in c:\\users\\yao_l\\appdata\\roaming\\python\\python312\\site-packages (from python-dateutil>=2.7->matplotlib<4,>=3.4.0->ipympl) (1.16.0)\n",
      "Requirement already satisfied: executing>=1.2.0 in c:\\users\\yao_l\\appdata\\roaming\\python\\python312\\site-packages (from stack-data->ipython<9->ipympl) (2.0.1)\n",
      "Requirement already satisfied: asttokens>=2.1.0 in c:\\users\\yao_l\\appdata\\roaming\\python\\python312\\site-packages (from stack-data->ipython<9->ipympl) (2.4.1)\n",
      "Requirement already satisfied: pure-eval in c:\\users\\yao_l\\appdata\\roaming\\python\\python312\\site-packages (from stack-data->ipython<9->ipympl) (0.2.2)\n",
      "Note: you may need to restart the kernel to use updated packages.\n"
     ]
    }
   ],
   "source": [
    "#library\n",
    "#!pip list\n",
    "%pip install doepy\n",
    "%pip install ipympl\n",
    "import numpy as np \n",
    "import pandas as pd\n",
    "import matplotlib.pyplot as plt\n",
    "\n",
    "from doepy import build"
   ]
  },
  {
   "cell_type": "code",
   "execution_count": 2,
   "metadata": {},
   "outputs": [
    {
     "ename": "AssertionError",
     "evalue": "Number of factors must be greater than desired resolution",
     "output_type": "error",
     "traceback": [
      "\u001b[1;31m---------------------------------------------------------------------------\u001b[0m",
      "\u001b[1;31mAssertionError\u001b[0m                            Traceback (most recent call last)",
      "Cell \u001b[1;32mIn[2], line 4\u001b[0m\n\u001b[0;32m      1\u001b[0m \u001b[38;5;66;03m#create the dict\u001b[39;00m\n\u001b[0;32m      2\u001b[0m ddict \u001b[38;5;241m=\u001b[39m {\u001b[38;5;124m'\u001b[39m\u001b[38;5;124mpH\u001b[39m\u001b[38;5;124m'\u001b[39m:[\u001b[38;5;241m3\u001b[39m, \u001b[38;5;241m6\u001b[39m, \u001b[38;5;241m9\u001b[39m],\n\u001b[0;32m      3\u001b[0m           \u001b[38;5;124m'\u001b[39m\u001b[38;5;124mSpeed\u001b[39m\u001b[38;5;124m'\u001b[39m:[\u001b[38;5;241m20\u001b[39m, \u001b[38;5;241m60\u001b[39m, \u001b[38;5;241m100\u001b[39m]}\n\u001b[1;32m----> 4\u001b[0m frac_fact \u001b[38;5;241m=\u001b[39m \u001b[43mbuild\u001b[49m\u001b[38;5;241;43m.\u001b[39;49m\u001b[43mfrac_fact_res\u001b[49m\u001b[43m(\u001b[49m\u001b[43mddict\u001b[49m\u001b[43m)\u001b[49m\u001b[38;5;241m.\u001b[39mto_csv(\u001b[38;5;124m'\u001b[39m\u001b[38;5;124mfrac_fact.csv\u001b[39m\u001b[38;5;124m'\u001b[39m, index\u001b[38;5;241m=\u001b[39m\u001b[38;5;28;01mFalse\u001b[39;00m)\n",
      "File \u001b[1;32md:\\Software\\Anaconda\\envs\\WinConda\\Lib\\site-packages\\doepy\\build.py:73\u001b[0m, in \u001b[0;36mfrac_fact_res\u001b[1;34m(d, res)\u001b[0m\n\u001b[0;32m     16\u001b[0m \u001b[38;5;28;01mdef\u001b[39;00m \u001b[38;5;21mfrac_fact_res\u001b[39m(d,res\u001b[38;5;241m=\u001b[39m\u001b[38;5;28;01mNone\u001b[39;00m):\n\u001b[0;32m     17\u001b[0m \u001b[38;5;250m    \u001b[39m\u001b[38;5;124;03m\"\"\"\u001b[39;00m\n\u001b[0;32m     18\u001b[0m \u001b[38;5;124;03m    Builds a 2-level fractional factorial design dataframe from a dictionary of factor/level ranges and given resolution.\u001b[39;00m\n\u001b[0;32m     19\u001b[0m \u001b[38;5;124;03m      \u001b[39;00m\n\u001b[1;32m   (...)\u001b[0m\n\u001b[0;32m     70\u001b[0m \u001b[38;5;124;03m        ValueError: design not possible\u001b[39;00m\n\u001b[0;32m     71\u001b[0m \u001b[38;5;124;03m    \"\"\"\u001b[39;00m\n\u001b[1;32m---> 73\u001b[0m     \u001b[38;5;28;01mreturn\u001b[39;00m \u001b[43mbuild_frac_fact_res\u001b[49m\u001b[43m(\u001b[49m\u001b[43md\u001b[49m\u001b[43m,\u001b[49m\u001b[43mres\u001b[49m\u001b[38;5;241;43m=\u001b[39;49m\u001b[43mres\u001b[49m\u001b[43m)\u001b[49m\n",
      "File \u001b[1;32md:\\Software\\Anaconda\\envs\\WinConda\\Lib\\site-packages\\doepy\\doe_functions.py:183\u001b[0m, in \u001b[0;36mbuild_frac_fact_res\u001b[1;34m(factor_level_ranges, res)\u001b[0m\n\u001b[0;32m    180\u001b[0m \u001b[38;5;28;01mif\u001b[39;00m res\u001b[38;5;241m==\u001b[39m\u001b[38;5;28;01mNone\u001b[39;00m:\n\u001b[0;32m    181\u001b[0m     res \u001b[38;5;241m=\u001b[39m \u001b[38;5;28mint\u001b[39m(factor_count\u001b[38;5;241m/\u001b[39m\u001b[38;5;241m2\u001b[39m)\u001b[38;5;241m+\u001b[39m\u001b[38;5;241m1\u001b[39m\n\u001b[1;32m--> 183\u001b[0m \u001b[38;5;28;01massert\u001b[39;00m (factor_count\u001b[38;5;241m>\u001b[39m res),\u001b[38;5;124m\"\u001b[39m\u001b[38;5;124mNumber of factors must be greater than desired resolution\u001b[39m\u001b[38;5;124m\"\u001b[39m\n\u001b[0;32m    185\u001b[0m \u001b[38;5;28;01mfor\u001b[39;00m key \u001b[38;5;129;01min\u001b[39;00m factor_level_ranges:\n\u001b[0;32m    186\u001b[0m     \u001b[38;5;28;01mif\u001b[39;00m \u001b[38;5;28mlen\u001b[39m(factor_level_ranges[key])\u001b[38;5;241m!=\u001b[39m\u001b[38;5;241m2\u001b[39m:\n",
      "\u001b[1;31mAssertionError\u001b[0m: Number of factors must be greater than desired resolution"
     ]
    }
   ],
   "source": [
    "#create the dict\n",
    "ddict = {'pH':[3, 6, 9],\n",
    "          'Speed':[20, 60, 100]}\n",
    "frac_fact = build.frac_fact_res(ddict).to_csv('frac_fact.csv', index=False)\n",
    "\n",
    "\n"
   ]
  },
  {
   "cell_type": "code",
   "execution_count": null,
   "metadata": {},
   "outputs": [],
   "source": []
  }
 ],
 "metadata": {
  "kernelspec": {
   "display_name": "WinConda",
   "language": "python",
   "name": "python3"
  },
  "language_info": {
   "codemirror_mode": {
    "name": "ipython",
    "version": 3
   },
   "file_extension": ".py",
   "mimetype": "text/x-python",
   "name": "python",
   "nbconvert_exporter": "python",
   "pygments_lexer": "ipython3",
   "version": "3.12.5"
  }
 },
 "nbformat": 4,
 "nbformat_minor": 2
}
