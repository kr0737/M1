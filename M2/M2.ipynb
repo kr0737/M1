{
 "cells": [
  {
   "cell_type": "code",
   "execution_count": 2,
   "metadata": {},
   "outputs": [
    {
     "name": "stdout",
     "output_type": "stream",
     "text": [
      "Requirement already satisfied: openpyxl in d:\\software\\anaconda\\envs\\winconda\\lib\\site-packages (3.1.5)\n",
      "Requirement already satisfied: et-xmlfile in d:\\software\\anaconda\\envs\\winconda\\lib\\site-packages (from openpyxl) (1.1.0)\n"
     ]
    }
   ],
   "source": [
    "import pandas as pd \n",
    "!pip install openpyxl\n",
    "\n",
    "import pandas as pd\n",
    "\n",
    "from statsmodels.formula.api import ols\n",
    "import scipy.stats as stats\n",
    "import matplotlib.pyplot as plt \n",
    "import math\n",
    "import statsmodels.api as sm \n",
    "from statsmodels.formula.api import ols\n",
    "import seaborn as sns "
   ]
  },
  {
   "cell_type": "code",
   "execution_count": 3,
   "metadata": {},
   "outputs": [],
   "source": [
    "df = pd.read_excel('result_screening.xlsx')"
   ]
  },
  {
   "cell_type": "code",
   "execution_count": 4,
   "metadata": {},
   "outputs": [
    {
     "data": {
      "text/html": [
       "<div>\n",
       "<style scoped>\n",
       "    .dataframe tbody tr th:only-of-type {\n",
       "        vertical-align: middle;\n",
       "    }\n",
       "\n",
       "    .dataframe tbody tr th {\n",
       "        vertical-align: top;\n",
       "    }\n",
       "\n",
       "    .dataframe thead th {\n",
       "        text-align: right;\n",
       "    }\n",
       "</style>\n",
       "<table border=\"1\" class=\"dataframe\">\n",
       "  <thead>\n",
       "    <tr style=\"text-align: right;\">\n",
       "      <th></th>\n",
       "      <th>Screen</th>\n",
       "      <th>pH</th>\n",
       "      <th>Speed</th>\n",
       "      <th>Viscosity</th>\n",
       "    </tr>\n",
       "  </thead>\n",
       "  <tbody>\n",
       "    <tr>\n",
       "      <th>0</th>\n",
       "      <td>1</td>\n",
       "      <td>3</td>\n",
       "      <td>20</td>\n",
       "      <td>1.15</td>\n",
       "    </tr>\n",
       "    <tr>\n",
       "      <th>1</th>\n",
       "      <td>1</td>\n",
       "      <td>3</td>\n",
       "      <td>60</td>\n",
       "      <td>2.93</td>\n",
       "    </tr>\n",
       "    <tr>\n",
       "      <th>2</th>\n",
       "      <td>1</td>\n",
       "      <td>3</td>\n",
       "      <td>100</td>\n",
       "      <td>2.11</td>\n",
       "    </tr>\n",
       "    <tr>\n",
       "      <th>3</th>\n",
       "      <td>1</td>\n",
       "      <td>6</td>\n",
       "      <td>20</td>\n",
       "      <td>1.79</td>\n",
       "    </tr>\n",
       "    <tr>\n",
       "      <th>4</th>\n",
       "      <td>1</td>\n",
       "      <td>6</td>\n",
       "      <td>60</td>\n",
       "      <td>6.09</td>\n",
       "    </tr>\n",
       "    <tr>\n",
       "      <th>5</th>\n",
       "      <td>1</td>\n",
       "      <td>6</td>\n",
       "      <td>100</td>\n",
       "      <td>6.23</td>\n",
       "    </tr>\n",
       "    <tr>\n",
       "      <th>6</th>\n",
       "      <td>1</td>\n",
       "      <td>9</td>\n",
       "      <td>20</td>\n",
       "      <td>3.36</td>\n",
       "    </tr>\n",
       "    <tr>\n",
       "      <th>7</th>\n",
       "      <td>1</td>\n",
       "      <td>9</td>\n",
       "      <td>60</td>\n",
       "      <td>8.81</td>\n",
       "    </tr>\n",
       "    <tr>\n",
       "      <th>8</th>\n",
       "      <td>1</td>\n",
       "      <td>9</td>\n",
       "      <td>100</td>\n",
       "      <td>8.52</td>\n",
       "    </tr>\n",
       "    <tr>\n",
       "      <th>9</th>\n",
       "      <td>2</td>\n",
       "      <td>3</td>\n",
       "      <td>100</td>\n",
       "      <td>2.90</td>\n",
       "    </tr>\n",
       "    <tr>\n",
       "      <th>10</th>\n",
       "      <td>2</td>\n",
       "      <td>3</td>\n",
       "      <td>100</td>\n",
       "      <td>2.40</td>\n",
       "    </tr>\n",
       "    <tr>\n",
       "      <th>11</th>\n",
       "      <td>2</td>\n",
       "      <td>4</td>\n",
       "      <td>100</td>\n",
       "      <td>4.21</td>\n",
       "    </tr>\n",
       "    <tr>\n",
       "      <th>12</th>\n",
       "      <td>2</td>\n",
       "      <td>4</td>\n",
       "      <td>100</td>\n",
       "      <td>3.16</td>\n",
       "    </tr>\n",
       "    <tr>\n",
       "      <th>13</th>\n",
       "      <td>2</td>\n",
       "      <td>5</td>\n",
       "      <td>100</td>\n",
       "      <td>5.02</td>\n",
       "    </tr>\n",
       "    <tr>\n",
       "      <th>14</th>\n",
       "      <td>2</td>\n",
       "      <td>5</td>\n",
       "      <td>100</td>\n",
       "      <td>4.95</td>\n",
       "    </tr>\n",
       "    <tr>\n",
       "      <th>15</th>\n",
       "      <td>2</td>\n",
       "      <td>6</td>\n",
       "      <td>100</td>\n",
       "      <td>6.19</td>\n",
       "    </tr>\n",
       "    <tr>\n",
       "      <th>16</th>\n",
       "      <td>2</td>\n",
       "      <td>6</td>\n",
       "      <td>100</td>\n",
       "      <td>5.27</td>\n",
       "    </tr>\n",
       "    <tr>\n",
       "      <th>17</th>\n",
       "      <td>2</td>\n",
       "      <td>7</td>\n",
       "      <td>100</td>\n",
       "      <td>5.16</td>\n",
       "    </tr>\n",
       "    <tr>\n",
       "      <th>18</th>\n",
       "      <td>2</td>\n",
       "      <td>7</td>\n",
       "      <td>100</td>\n",
       "      <td>6.10</td>\n",
       "    </tr>\n",
       "    <tr>\n",
       "      <th>19</th>\n",
       "      <td>2</td>\n",
       "      <td>8</td>\n",
       "      <td>100</td>\n",
       "      <td>7.14</td>\n",
       "    </tr>\n",
       "    <tr>\n",
       "      <th>20</th>\n",
       "      <td>2</td>\n",
       "      <td>8</td>\n",
       "      <td>100</td>\n",
       "      <td>8.33</td>\n",
       "    </tr>\n",
       "    <tr>\n",
       "      <th>21</th>\n",
       "      <td>2</td>\n",
       "      <td>9</td>\n",
       "      <td>100</td>\n",
       "      <td>7.63</td>\n",
       "    </tr>\n",
       "    <tr>\n",
       "      <th>22</th>\n",
       "      <td>2</td>\n",
       "      <td>9</td>\n",
       "      <td>100</td>\n",
       "      <td>9.67</td>\n",
       "    </tr>\n",
       "    <tr>\n",
       "      <th>23</th>\n",
       "      <td>3</td>\n",
       "      <td>4</td>\n",
       "      <td>100</td>\n",
       "      <td>3.18</td>\n",
       "    </tr>\n",
       "    <tr>\n",
       "      <th>24</th>\n",
       "      <td>3</td>\n",
       "      <td>6</td>\n",
       "      <td>100</td>\n",
       "      <td>6.00</td>\n",
       "    </tr>\n",
       "    <tr>\n",
       "      <th>25</th>\n",
       "      <td>3</td>\n",
       "      <td>8</td>\n",
       "      <td>100</td>\n",
       "      <td>6.68</td>\n",
       "    </tr>\n",
       "    <tr>\n",
       "      <th>26</th>\n",
       "      <td>3</td>\n",
       "      <td>3</td>\n",
       "      <td>100</td>\n",
       "      <td>2.91</td>\n",
       "    </tr>\n",
       "    <tr>\n",
       "      <th>27</th>\n",
       "      <td>3</td>\n",
       "      <td>5</td>\n",
       "      <td>100</td>\n",
       "      <td>4.64</td>\n",
       "    </tr>\n",
       "    <tr>\n",
       "      <th>28</th>\n",
       "      <td>3</td>\n",
       "      <td>7</td>\n",
       "      <td>100</td>\n",
       "      <td>6.51</td>\n",
       "    </tr>\n",
       "  </tbody>\n",
       "</table>\n",
       "</div>"
      ],
      "text/plain": [
       "    Screen  pH  Speed  Viscosity\n",
       "0        1   3     20       1.15\n",
       "1        1   3     60       2.93\n",
       "2        1   3    100       2.11\n",
       "3        1   6     20       1.79\n",
       "4        1   6     60       6.09\n",
       "5        1   6    100       6.23\n",
       "6        1   9     20       3.36\n",
       "7        1   9     60       8.81\n",
       "8        1   9    100       8.52\n",
       "9        2   3    100       2.90\n",
       "10       2   3    100       2.40\n",
       "11       2   4    100       4.21\n",
       "12       2   4    100       3.16\n",
       "13       2   5    100       5.02\n",
       "14       2   5    100       4.95\n",
       "15       2   6    100       6.19\n",
       "16       2   6    100       5.27\n",
       "17       2   7    100       5.16\n",
       "18       2   7    100       6.10\n",
       "19       2   8    100       7.14\n",
       "20       2   8    100       8.33\n",
       "21       2   9    100       7.63\n",
       "22       2   9    100       9.67\n",
       "23       3   4    100       3.18\n",
       "24       3   6    100       6.00\n",
       "25       3   8    100       6.68\n",
       "26       3   3    100       2.91\n",
       "27       3   5    100       4.64\n",
       "28       3   7    100       6.51"
      ]
     },
     "execution_count": 4,
     "metadata": {},
     "output_type": "execute_result"
    }
   ],
   "source": [
    "# change response to viscosity\n",
    "df = df.rename(columns={'Response':'Viscosity'})\n",
    "df"
   ]
  },
  {
   "cell_type": "code",
   "execution_count": 5,
   "metadata": {},
   "outputs": [
    {
     "data": {
      "image/png": "[encoded data removed]",
      "text/plain": [
       "<Figure size 640x480 with 1 Axes>"
      ]
     },
     "metadata": {},
     "output_type": "display_data"
    }
   ],
   "source": [
    "## test if normal distributed\n",
    "\n",
    "#histgram\n",
    "df['Viscosity'].hist(bins=10, edgecolor='black')\n",
    "plt.title('Distribution Plot of Viscosity')\n",
    "plt.xlabel('response')\n",
    "plt.ylabel('intensity')\n",
    "plt.show()\n"
   ]
  },
  {
   "cell_type": "code",
   "execution_count": 6,
   "metadata": {},
   "outputs": [
    {
     "name": "stdout",
     "output_type": "stream",
     "text": [
      "ShapiroResult(statistic=0.970054383195265, pvalue=0.5611692536176263)\n"
     ]
    }
   ],
   "source": [
    "# Shapiro-wilks\n",
    "nor_result = stats.shapiro(df['Viscosity'])\n",
    "print(nor_result)"
   ]
  },
  {
   "cell_type": "markdown",
   "metadata": {},
   "source": [
    "P_value = 0.5611 greater than 0.05, the data is normally distributed. \n",
    "Use ANOVA test."
   ]
  },
  {
   "cell_type": "code",
   "execution_count": null,
   "metadata": {},
   "outputs": [],
   "source": []
  },
  {
   "cell_type": "code",
   "execution_count": 7,
   "metadata": {},
   "outputs": [],
   "source": [
    "# Extract each column from df\n",
    "pH = df['pH']\n",
    "Speed = df['Speed']"
   ]
  },
  {
   "cell_type": "code",
   "execution_count": 8,
   "metadata": {},
   "outputs": [
    {
     "name": "stdout",
     "output_type": "stream",
     "text": [
      "              sum_sq    df           F        PR(>F)\n",
      "pH        100.608754   1.0  123.481942  3.662610e-11\n",
      "Speed      22.690242   1.0   27.848820  1.822142e-05\n",
      "pH:Speed    4.221736   1.0    5.181539  3.165427e-02\n",
      "Residual   20.369123  25.0         NaN           NaN\n"
     ]
    }
   ],
   "source": [
    "# create the model\n",
    "# syntax ols('dependent_variable ~ independent_variable', data=dataset).fit()\n",
    "model = ols('Viscosity ~ pH * Speed', data = df).fit()\n",
    "\n",
    "anova_result = sm.stats.anova_lm(model, typ=2)\n",
    "# anova_result_decimal = \"{:.10f}\".format(anova_result['PR(>F)'])\n",
    "# # p_value = \"{:.12f}\".format(p_value)\n",
    "\n",
    "# print(anova_result['PR(>F)'])\n",
    "print(anova_result)"
   ]
  },
  {
   "cell_type": "code",
   "execution_count": 23,
   "metadata": {},
   "outputs": [],
   "source": [
    "# plt.figure(figsize=(10, 12))\n",
    "    \n",
    "    \n",
    "# ax = plt.axes(111, projection='3d')\n",
    "# fg = ax.scatter3D(df['pH'], df['Speed'], df['Viscosity'], \n",
    "#                   cmap='coolwarm')\n",
    "\n",
    "# # Set axis labels and title\n",
    "# ax.set_xlabel('pH', fontweight='bold', fontsize=12)\n",
    "# ax.set_ylabel('Speed', fontweight='bold',fontsize=12)\n",
    "# ax.set_zlabel('Viscosity', fontweight='bold',fontsize=12)\n",
    "# plt.title('3D plot')\n",
    "# # Set angle in case zlabel can't show\n",
    "# ax.view_init(elev=20, azim=30)\n",
    "# plt.tight_layout()\n",
    "# # Display the plot\n",
    "# plt.show()"
   ]
  },
  {
   "cell_type": "code",
   "execution_count": 16,
   "metadata": {},
   "outputs": [
    {
     "data": {
      "image/png": "[encoded data removed]",
      "text/plain": [
       "<Figure size 600x400 with 1 Axes>"
      ]
     },
     "metadata": {},
     "output_type": "display_data"
    }
   ],
   "source": [
    "plt.figure(figsize=(6,4))\n",
    "sns.barplot(data=df, x='pH', y='Viscosity', errorbar='sd')\n",
    "plt.show()"
   ]
  },
  {
   "cell_type": "code",
   "execution_count": 10,
   "metadata": {},
   "outputs": [],
   "source": [
    "from scipy.stats import ttest_ind\n",
    "from itertools import combinations"
   ]
  },
  {
   "cell_type": "code",
   "execution_count": 17,
   "metadata": {},
   "outputs": [
    {
     "name": "stdout",
     "output_type": "stream",
     "text": [
      "T-test of variable: pH\n",
      "3 vs 6: t_statistic: -3.7445675828506406\n",
      "3 vs 6: p_value: 0.00382\n",
      "3 vs 9: t_statistic: -4.955045244932901\n",
      "3 vs 9: p_value: 0.00079\n",
      "3 vs 4: t_statistic: -2.350833780017106\n",
      "No significant difference\n",
      "3 vs 5: t_statistic: -5.822539032442267\n",
      "3 vs 5: p_value: 0.00065\n",
      "3 vs 7: t_statistic: -7.154103595784678\n",
      "3 vs 7: p_value: 0.00018\n",
      "3 vs 8: t_statistic: -9.456696372970235\n",
      "3 vs 8: p_value: 0.00003\n",
      "6 vs 9: t_statistic: -1.8380593133323646\n",
      "No significant difference\n",
      "6 vs 4: t_statistic: 1.6423600854177884\n",
      "No significant difference\n",
      "6 vs 5: t_statistic: 0.3763208050735915\n",
      "No significant difference\n",
      "6 vs 7: t_statistic: -0.618134262759809\n",
      "No significant difference\n",
      "6 vs 8: t_statistic: -1.952363776589322\n",
      "No significant difference\n",
      "9 vs 4: t_statistic: 2.7218220401613347\n",
      "9 vs 4: p_value: 0.03456\n",
      "9 vs 5: t_statistic: 1.8427318181638999\n",
      "No significant difference\n",
      "9 vs 7: t_statistic: 1.1116361794804008\n",
      "No significant difference\n",
      "9 vs 8: t_statistic: 0.14114135866244376\n",
      "No significant difference\n",
      "4 vs 5: t_statistic: -3.699172673163662\n",
      "4 vs 5: p_value: 0.02085\n",
      "4 vs 7: t_statistic: -4.549075175719452\n",
      "4 vs 7: p_value: 0.01042\n",
      "4 vs 8: t_statistic: -6.427603964415126\n",
      "4 vs 8: p_value: 0.00301\n",
      "5 vs 7: t_statistic: -2.530187026795231\n",
      "No significant difference\n",
      "5 vs 8: t_statistic: -4.974108259890646\n",
      "5 vs 8: p_value: 0.00763\n",
      "7 vs 8: t_statistic: -2.3045610440319595\n",
      "No significant difference\n"
     ]
    }
   ],
   "source": [
    "# post-hoc with T-test\n",
    "\n",
    "levels = df['pH'].unique()\n",
    "print(f'T-test of variable: pH')\n",
    "for level1, level2 in combinations(levels, 2):\n",
    "  group1 = df[df['pH'] == level1]['Viscosity'] \n",
    "  group2 = df[df['pH'] == level2]['Viscosity']\n",
    "  t_stat, p_value = ttest_ind(group1, group2)\n",
    "  print(f\"{level1} vs {level2}: t_statistic: {t_stat}\")\n",
    "  if p_value < 0.05:\n",
    "    print(f\"{level1} vs {level2}: p_value: {p_value:.5f}\")\n",
    "  else:\n",
    "    print('No significant difference')"
   ]
  },
  {
   "cell_type": "code",
   "execution_count": 27,
   "metadata": {},
   "outputs": [],
   "source": [
    "# post-hoc with Tukry HSD Test\n",
    "from statsmodels.stats.multicomp import pairwise_tukeyhsd"
   ]
  },
  {
   "cell_type": "code",
   "execution_count": 28,
   "metadata": {},
   "outputs": [
    {
     "name": "stdout",
     "output_type": "stream",
     "text": [
      "Multiple Comparison of Means - Tukey HSD, FWER=0.05\n",
      "===================================================\n",
      "group1 group2 meandiff p-adj   lower  upper  reject\n",
      "---------------------------------------------------\n",
      "     3      4   1.1167 0.9213 -2.1673 4.4007  False\n",
      "     3      5     2.47 0.2315  -0.814  5.754  False\n",
      "     3      6   2.8617 0.0314  0.1803  5.543   True\n",
      "     3      7   3.5233 0.0302  0.2393 6.8073   True\n",
      "     3      8   4.9833 0.0011  1.6993 8.2673   True\n",
      "     3      9    5.198 0.0001  2.3857 8.0103   True\n",
      "     4      5   1.3533 0.9033 -2.4387 5.1454  False\n",
      "     4      6    1.745  0.611  -1.539  5.029  False\n",
      "     4      7   2.4067 0.4117 -1.3854 6.1987  False\n",
      "     4      8   3.8667 0.0437  0.0746 7.6587   True\n",
      "     4      9   4.0813 0.0118  0.6896  7.473   True\n",
      "     5      6   0.3917 0.9997 -2.8923 3.6757  False\n",
      "     5      7   1.0533 0.9689 -2.7387 4.8454  False\n",
      "     5      8   2.5133 0.3627 -1.2787 6.3054  False\n",
      "     5      9    2.728 0.1729 -0.6637 6.1197  False\n",
      "     6      7   0.6617  0.994 -2.6223 3.9457  False\n",
      "     6      8   2.1217 0.3914 -1.1623 5.4057  False\n",
      "     6      9   2.3363  0.148 -0.4759 5.1486  False\n",
      "     7      8     1.46 0.8683  -2.332  5.252  False\n",
      "     7      9   1.6747 0.6849  -1.717 5.0664  False\n",
      "     8      9   0.2147    1.0  -3.177 3.6064  False\n",
      "---------------------------------------------------\n"
     ]
    }
   ],
   "source": [
    "pH_tukey = pairwise_tukeyhsd(df['Viscosity'], df['pH'])\n",
    "print(pH_tukey)\n",
    "\n"
   ]
  },
  {
   "cell_type": "code",
   "execution_count": 29,
   "metadata": {},
   "outputs": [
    {
     "name": "stdout",
     "output_type": "stream",
     "text": [
      "Multiple Comparison of Means - Tukey HSD, FWER=0.05\n",
      "===================================================\n",
      "group1 group2 meandiff p-adj   lower  upper  reject\n",
      "---------------------------------------------------\n",
      "    20     60   3.8433 0.0819 -0.4071 8.0937  False\n",
      "    20    100   3.3309 0.0398  0.1354 6.5263   True\n",
      "    60    100  -0.5125 0.9165 -3.7079  2.683  False\n",
      "---------------------------------------------------\n"
     ]
    }
   ],
   "source": [
    "Speed_tukey = pairwise_tukeyhsd(df['Viscosity'], df['Speed'])\n",
    "print(Speed_tukey)"
   ]
  },
  {
   "cell_type": "code",
   "execution_count": 25,
   "metadata": {},
   "outputs": [
    {
     "name": "stdout",
     "output_type": "stream",
     "text": [
      "                            OLS Regression Results                            \n",
      "==============================================================================\n",
      "Dep. Variable:              Viscosity   R-squared:                       0.831\n",
      "Model:                            OLS   Adj. R-squared:                  0.818\n",
      "Method:                 Least Squares   F-statistic:                     64.03\n",
      "Date:                Thu, 12 Sep 2024   Prob (F-statistic):           9.01e-11\n",
      "Time:                        10:19:51   Log-Likelihood:                -38.758\n",
      "No. Observations:                  29   AIC:                             83.52\n",
      "Df Residuals:                      26   BIC:                             87.62\n",
      "Df Model:                           2                                         \n",
      "Covariance Type:            nonrobust                                         \n",
      "==============================================================================\n",
      "                 coef    std err          t      P>|t|      [0.025      0.975]\n",
      "------------------------------------------------------------------------------\n",
      "const         -3.0620      0.821     -3.728      0.001      -4.750      -1.374\n",
      "pH             0.8844      0.086     10.314      0.000       0.708       1.061\n",
      "Speed          0.0341      0.007      4.898      0.000       0.020       0.048\n",
      "==============================================================================\n",
      "Omnibus:                        0.244   Durbin-Watson:                   2.586\n",
      "Prob(Omnibus):                  0.885   Jarque-Bera (JB):                0.018\n",
      "Skew:                           0.059   Prob(JB):                        0.991\n",
      "Kurtosis:                       2.963   Cond. No.                         417.\n",
      "==============================================================================\n",
      "\n",
      "Notes:\n",
      "[1] Standard Errors assume that the covariance matrix of the errors is correctly specified.\n"
     ]
    }
   ],
   "source": [
    "# linear regression\n",
    "\n",
    "x = df[['pH', 'Speed']]\n",
    "x = sm.add_constant(x)\n",
    "y = df['Viscosity']\n",
    "\n",
    "model = sm.OLS(y, x).fit()\n",
    "\n",
    "print(model.summary())"
   ]
  },
  {
   "cell_type": "code",
   "execution_count": null,
   "metadata": {},
   "outputs": [],
   "source": []
  }
 ],
 "metadata": {
  "kernelspec": {
   "display_name": "WinConda",
   "language": "python",
   "name": "python3"
  },
  "language_info": {
   "codemirror_mode": {
    "name": "ipython",
    "version": 3
   },
   "file_extension": ".py",
   "mimetype": "text/x-python",
   "name": "python",
   "nbconvert_exporter": "python",
   "pygments_lexer": "ipython3",
   "version": "3.12.5"
  }
 },
 "nbformat": 4,
 "nbformat_minor": 2
}
