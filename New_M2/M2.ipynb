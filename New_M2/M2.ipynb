{
 "cells": [
  {
   "cell_type": "code",
   "execution_count": 20,
   "metadata": {},
   "outputs": [],
   "source": [
    "\n",
    "import pandas as pd\n",
    "import numpy as np \n",
    "from statsmodels.formula.api import ols\n",
    "import scipy.stats as stats\n",
    "import matplotlib.pyplot as plt \n",
    "import math\n",
    "import statsmodels.api as sm \n",
    "from statsmodels.formula.api import ols\n",
    "import seaborn as sns "
   ]
  },
  {
   "cell_type": "code",
   "execution_count": 2,
   "metadata": {},
   "outputs": [],
   "source": [
    "# file_path = 'E:\\Year_2_Semester_1\\chemometrics\\Exercises\\M1\\New_M2\\Results\\New_M2_results.csv'\n",
    "df = pd.read_csv('New_M2_results.csv')"
   ]
  },
  {
   "cell_type": "code",
   "execution_count": 3,
   "metadata": {},
   "outputs": [
    {
     "data": {
      "text/html": [
       "<div>\n",
       "<style scoped>\n",
       "    .dataframe tbody tr th:only-of-type {\n",
       "        vertical-align: middle;\n",
       "    }\n",
       "\n",
       "    .dataframe tbody tr th {\n",
       "        vertical-align: top;\n",
       "    }\n",
       "\n",
       "    .dataframe thead th {\n",
       "        text-align: right;\n",
       "    }\n",
       "</style>\n",
       "<table border=\"1\" class=\"dataframe\">\n",
       "  <thead>\n",
       "    <tr style=\"text-align: right;\">\n",
       "      <th></th>\n",
       "      <th>Screen</th>\n",
       "      <th>pH</th>\n",
       "      <th>Speed</th>\n",
       "      <th>Viscosity</th>\n",
       "    </tr>\n",
       "  </thead>\n",
       "  <tbody>\n",
       "    <tr>\n",
       "      <th>0</th>\n",
       "      <td>1</td>\n",
       "      <td>3</td>\n",
       "      <td>20</td>\n",
       "      <td>-1.98</td>\n",
       "    </tr>\n",
       "    <tr>\n",
       "      <th>1</th>\n",
       "      <td>1</td>\n",
       "      <td>3</td>\n",
       "      <td>60</td>\n",
       "      <td>3.04</td>\n",
       "    </tr>\n",
       "    <tr>\n",
       "      <th>2</th>\n",
       "      <td>1</td>\n",
       "      <td>3</td>\n",
       "      <td>100</td>\n",
       "      <td>0.37</td>\n",
       "    </tr>\n",
       "    <tr>\n",
       "      <th>3</th>\n",
       "      <td>1</td>\n",
       "      <td>6</td>\n",
       "      <td>20</td>\n",
       "      <td>-2.94</td>\n",
       "    </tr>\n",
       "    <tr>\n",
       "      <th>4</th>\n",
       "      <td>1</td>\n",
       "      <td>6</td>\n",
       "      <td>60</td>\n",
       "      <td>5.89</td>\n",
       "    </tr>\n",
       "    <tr>\n",
       "      <th>5</th>\n",
       "      <td>1</td>\n",
       "      <td>6</td>\n",
       "      <td>100</td>\n",
       "      <td>0.61</td>\n",
       "    </tr>\n",
       "    <tr>\n",
       "      <th>6</th>\n",
       "      <td>1</td>\n",
       "      <td>9</td>\n",
       "      <td>20</td>\n",
       "      <td>-6.60</td>\n",
       "    </tr>\n",
       "    <tr>\n",
       "      <th>7</th>\n",
       "      <td>1</td>\n",
       "      <td>9</td>\n",
       "      <td>60</td>\n",
       "      <td>7.17</td>\n",
       "    </tr>\n",
       "    <tr>\n",
       "      <th>8</th>\n",
       "      <td>1</td>\n",
       "      <td>9</td>\n",
       "      <td>100</td>\n",
       "      <td>1.11</td>\n",
       "    </tr>\n",
       "    <tr>\n",
       "      <th>9</th>\n",
       "      <td>2</td>\n",
       "      <td>4</td>\n",
       "      <td>60</td>\n",
       "      <td>3.44</td>\n",
       "    </tr>\n",
       "    <tr>\n",
       "      <th>10</th>\n",
       "      <td>2</td>\n",
       "      <td>4</td>\n",
       "      <td>60</td>\n",
       "      <td>3.14</td>\n",
       "    </tr>\n",
       "    <tr>\n",
       "      <th>11</th>\n",
       "      <td>2</td>\n",
       "      <td>5</td>\n",
       "      <td>60</td>\n",
       "      <td>3.57</td>\n",
       "    </tr>\n",
       "    <tr>\n",
       "      <th>12</th>\n",
       "      <td>2</td>\n",
       "      <td>5</td>\n",
       "      <td>60</td>\n",
       "      <td>4.34</td>\n",
       "    </tr>\n",
       "    <tr>\n",
       "      <th>13</th>\n",
       "      <td>2</td>\n",
       "      <td>6</td>\n",
       "      <td>60</td>\n",
       "      <td>6.32</td>\n",
       "    </tr>\n",
       "    <tr>\n",
       "      <th>14</th>\n",
       "      <td>2</td>\n",
       "      <td>6</td>\n",
       "      <td>60</td>\n",
       "      <td>4.47</td>\n",
       "    </tr>\n",
       "    <tr>\n",
       "      <th>15</th>\n",
       "      <td>2</td>\n",
       "      <td>7</td>\n",
       "      <td>60</td>\n",
       "      <td>7.10</td>\n",
       "    </tr>\n",
       "    <tr>\n",
       "      <th>16</th>\n",
       "      <td>2</td>\n",
       "      <td>7</td>\n",
       "      <td>60</td>\n",
       "      <td>6.81</td>\n",
       "    </tr>\n",
       "    <tr>\n",
       "      <th>17</th>\n",
       "      <td>2</td>\n",
       "      <td>8</td>\n",
       "      <td>60</td>\n",
       "      <td>8.11</td>\n",
       "    </tr>\n",
       "    <tr>\n",
       "      <th>18</th>\n",
       "      <td>2</td>\n",
       "      <td>8</td>\n",
       "      <td>60</td>\n",
       "      <td>8.72</td>\n",
       "    </tr>\n",
       "    <tr>\n",
       "      <th>19</th>\n",
       "      <td>2</td>\n",
       "      <td>9</td>\n",
       "      <td>60</td>\n",
       "      <td>7.54</td>\n",
       "    </tr>\n",
       "    <tr>\n",
       "      <th>20</th>\n",
       "      <td>2</td>\n",
       "      <td>9</td>\n",
       "      <td>60</td>\n",
       "      <td>6.88</td>\n",
       "    </tr>\n",
       "    <tr>\n",
       "      <th>21</th>\n",
       "      <td>3</td>\n",
       "      <td>4</td>\n",
       "      <td>60</td>\n",
       "      <td>4.07</td>\n",
       "    </tr>\n",
       "    <tr>\n",
       "      <th>22</th>\n",
       "      <td>3</td>\n",
       "      <td>5</td>\n",
       "      <td>60</td>\n",
       "      <td>3.84</td>\n",
       "    </tr>\n",
       "    <tr>\n",
       "      <th>23</th>\n",
       "      <td>3</td>\n",
       "      <td>6</td>\n",
       "      <td>60</td>\n",
       "      <td>5.75</td>\n",
       "    </tr>\n",
       "    <tr>\n",
       "      <th>24</th>\n",
       "      <td>3</td>\n",
       "      <td>7</td>\n",
       "      <td>60</td>\n",
       "      <td>6.19</td>\n",
       "    </tr>\n",
       "    <tr>\n",
       "      <th>25</th>\n",
       "      <td>3</td>\n",
       "      <td>8</td>\n",
       "      <td>60</td>\n",
       "      <td>5.68</td>\n",
       "    </tr>\n",
       "  </tbody>\n",
       "</table>\n",
       "</div>"
      ],
      "text/plain": [
       "    Screen  pH  Speed  Viscosity\n",
       "0        1   3     20      -1.98\n",
       "1        1   3     60       3.04\n",
       "2        1   3    100       0.37\n",
       "3        1   6     20      -2.94\n",
       "4        1   6     60       5.89\n",
       "5        1   6    100       0.61\n",
       "6        1   9     20      -6.60\n",
       "7        1   9     60       7.17\n",
       "8        1   9    100       1.11\n",
       "9        2   4     60       3.44\n",
       "10       2   4     60       3.14\n",
       "11       2   5     60       3.57\n",
       "12       2   5     60       4.34\n",
       "13       2   6     60       6.32\n",
       "14       2   6     60       4.47\n",
       "15       2   7     60       7.10\n",
       "16       2   7     60       6.81\n",
       "17       2   8     60       8.11\n",
       "18       2   8     60       8.72\n",
       "19       2   9     60       7.54\n",
       "20       2   9     60       6.88\n",
       "21       3   4     60       4.07\n",
       "22       3   5     60       3.84\n",
       "23       3   6     60       5.75\n",
       "24       3   7     60       6.19\n",
       "25       3   8     60       5.68"
      ]
     },
     "execution_count": 3,
     "metadata": {},
     "output_type": "execute_result"
    }
   ],
   "source": [
    "# change response to viscosity\n",
    "df = df.rename(columns={'Response':'Viscosity'})\n",
    "df"
   ]
  },
  {
   "cell_type": "code",
   "execution_count": 4,
   "metadata": {},
   "outputs": [],
   "source": [
    "# convert it to csv\n",
    "Const_speed = df[df['Speed']==60].to_csv('Const_speed.csv', index=False)\n",
    "df = pd.read_csv('Const_speed.csv')"
   ]
  },
  {
   "cell_type": "code",
   "execution_count": 5,
   "metadata": {},
   "outputs": [
    {
     "data": {
      "image/png": "[encoded data removed]",
      "text/plain": [
       "<Figure size 640x480 with 1 Axes>"
      ]
     },
     "metadata": {},
     "output_type": "display_data"
    }
   ],
   "source": [
    "## test if normal distributed\n",
    "\n",
    "#histgram\n",
    "df['Viscosity'].hist(bins=10, edgecolor='black')\n",
    "plt.title('Distribution Plot of Viscosity')\n",
    "plt.xlabel('response')\n",
    "plt.ylabel('intensity')\n",
    "plt.show()\n"
   ]
  },
  {
   "cell_type": "code",
   "execution_count": 6,
   "metadata": {},
   "outputs": [
    {
     "name": "stdout",
     "output_type": "stream",
     "text": [
      "ShapiroResult(statistic=0.9437963894698387, pvalue=0.2825510611227856)\n"
     ]
    }
   ],
   "source": [
    "# Shapiro-wilks\n",
    "nor_result = stats.shapiro(df['Viscosity'])\n",
    "print(nor_result)"
   ]
  },
  {
   "cell_type": "markdown",
   "metadata": {},
   "source": [
    "P_value = 0.5611 greater than 0.05, the data is normally distributed. \n",
    "Use ANOVA test."
   ]
  },
  {
   "cell_type": "code",
   "execution_count": null,
   "metadata": {},
   "outputs": [],
   "source": []
  },
  {
   "cell_type": "code",
   "execution_count": 7,
   "metadata": {},
   "outputs": [],
   "source": [
    "# Extract each column from df\n",
    "pH = df['pH']\n",
    "Speed = df['Speed']"
   ]
  },
  {
   "cell_type": "code",
   "execution_count": 8,
   "metadata": {},
   "outputs": [
    {
     "name": "stdout",
     "output_type": "stream",
     "text": [
      "                sum_sq    df             F        PR(>F)\n",
      "pH        1.871523e-07   1.0  2.652093e-07  9.995948e-01\n",
      "Speed     6.279842e+02   1.0  8.899023e+02  8.856982e-17\n",
      "pH:Speed  4.558726e+01   1.0  6.460067e+01  2.292853e-07\n",
      "Residual  1.270220e+01  18.0           NaN           NaN\n"
     ]
    }
   ],
   "source": [
    "# create the model\n",
    "# syntax ols('dependent_variable ~ independent_variable', data=dataset).fit()\n",
    "model = ols('Viscosity ~ pH * Speed', data = df).fit()\n",
    "\n",
    "anova_result = sm.stats.anova_lm(model, typ=2)\n",
    "# anova_result_decimal = \"{:.10f}\".format(anova_result['PR(>F)'])\n",
    "# # p_value = \"{:.12f}\".format(p_value)\n",
    "\n",
    "# print(anova_result['PR(>F)'])\n",
    "print(anova_result)"
   ]
  },
  {
   "cell_type": "code",
   "execution_count": 9,
   "metadata": {},
   "outputs": [],
   "source": [
    "# plt.figure(figsize=(10, 12))\n",
    "    \n",
    "    \n",
    "# ax = plt.axes(111, projection='3d')\n",
    "# fg = ax.scatter3D(df['pH'], df['Speed'], df['Viscosity'], \n",
    "#                   cmap='coolwarm')\n",
    "\n",
    "# # Set axis labels and title\n",
    "# ax.set_xlabel('pH', fontweight='bold', fontsize=12)\n",
    "# ax.set_ylabel('Speed', fontweight='bold',fontsize=12)\n",
    "# ax.set_zlabel('Viscosity', fontweight='bold',fontsize=12)\n",
    "# plt.title('3D plot')\n",
    "# # Set angle in case zlabel can't show\n",
    "# ax.view_init(elev=20, azim=30)\n",
    "# plt.tight_layout()\n",
    "# # Display the plot\n",
    "# plt.show()"
   ]
  },
  {
   "cell_type": "code",
   "execution_count": 10,
   "metadata": {},
   "outputs": [
    {
     "data": {
      "image/png": "[encoded data removed]",
      "text/plain": [
       "<Figure size 600x400 with 1 Axes>"
      ]
     },
     "metadata": {},
     "output_type": "display_data"
    }
   ],
   "source": [
    "plt.figure(figsize=(6,4))\n",
    "sns.barplot(data=df, x='pH', y='Viscosity', errorbar='sd', capsize=0.1)\n",
    "plt.show()"
   ]
  },
  {
   "cell_type": "code",
   "execution_count": 11,
   "metadata": {},
   "outputs": [],
   "source": [
    "from scipy.stats import ttest_ind\n",
    "from itertools import combinations"
   ]
  },
  {
   "cell_type": "code",
   "execution_count": 12,
   "metadata": {},
   "outputs": [
    {
     "name": "stdout",
     "output_type": "stream",
     "text": [
      "T-test of variable: pH\n",
      "3 vs 6: t_statistic: -2.8843497745485984\n",
      "No significant difference\n",
      "3 vs 9: t_statistic: -10.881806936593756\n",
      "3 vs 9: p_value: 0.00834\n",
      "3 vs 4: t_statistic: -0.9305082155902543\n",
      "No significant difference\n",
      "3 vs 5: t_statistic: -1.9433025970293138\n",
      "No significant difference\n",
      "3 vs 7: t_statistic: -6.818429173923785\n",
      "3 vs 7: p_value: 0.02084\n",
      "3 vs 8: t_statistic: -2.4034733424988373\n",
      "No significant difference\n",
      "6 vs 9: t_statistic: -3.195013128223247\n",
      "6 vs 9: p_value: 0.02413\n",
      "6 vs 4: t_statistic: 3.927556149982521\n",
      "6 vs 4: p_value: 0.01110\n",
      "6 vs 5: t_statistic: 3.332207051555767\n",
      "6 vs 5: p_value: 0.02073\n",
      "6 vs 7: t_statistic: -2.0936749400480092\n",
      "No significant difference\n",
      "6 vs 8: t_statistic: -2.086784516750849\n",
      "No significant difference\n",
      "9 vs 4: t_statistic: 10.917098115738975\n",
      "9 vs 4: p_value: 0.00040\n",
      "9 vs 5: t_statistic: 11.09758751895106\n",
      "9 vs 5: p_value: 0.00038\n",
      "9 vs 7: t_statistic: 1.5077450399414176\n",
      "No significant difference\n",
      "9 vs 8: t_statistic: -0.3235027639461909\n",
      "No significant difference\n",
      "4 vs 5: t_statistic: -1.033057413889277\n",
      "No significant difference\n",
      "4 vs 7: t_statistic: -8.212114891567047\n",
      "4 vs 7: p_value: 0.00120\n",
      "4 vs 8: t_statistic: -4.083541719415063\n",
      "4 vs 8: p_value: 0.01505\n",
      "5 vs 7: t_statistic: -7.939070314689262\n",
      "5 vs 7: p_value: 0.00136\n",
      "5 vs 8: t_statistic: -3.753620329697202\n",
      "5 vs 8: p_value: 0.01988\n",
      "7 vs 8: t_statistic: -0.8311530861915056\n",
      "No significant difference\n"
     ]
    }
   ],
   "source": [
    "# post-hoc with T-test\n",
    "\n",
    "levels = df['pH'].unique()\n",
    "print(f'T-test of variable: pH')\n",
    "for level1, level2 in combinations(levels, 2):\n",
    "  group1 = df[df['pH'] == level1]['Viscosity'] \n",
    "  group2 = df[df['pH'] == level2]['Viscosity']\n",
    "  t_stat, p_value = ttest_ind(group1, group2)\n",
    "  print(f\"{level1} vs {level2}: t_statistic: {t_stat}\")\n",
    "  if p_value < 0.05:\n",
    "    print(f\"{level1} vs {level2}: p_value: {p_value:.5f}\")\n",
    "  else:\n",
    "    print('No significant difference')"
   ]
  },
  {
   "cell_type": "code",
   "execution_count": 13,
   "metadata": {},
   "outputs": [],
   "source": [
    "# post-hoc with Tukry HSD Test\n",
    "from statsmodels.stats.multicomp import pairwise_tukeyhsd"
   ]
  },
  {
   "cell_type": "code",
   "execution_count": 14,
   "metadata": {},
   "outputs": [
    {
     "name": "stdout",
     "output_type": "stream",
     "text": [
      "Multiple Comparison of Means - Tukey HSD, FWER=0.05\n",
      "===================================================\n",
      "group1 group2 meandiff p-adj   lower  upper  reject\n",
      "---------------------------------------------------\n",
      "     3      4     0.51 0.9974 -2.7112 3.7312  False\n",
      "     3      5   0.8767 0.9586 -2.3445 4.0978  False\n",
      "     3      6   2.5675 0.1386 -0.5514 5.6864  False\n",
      "     3      7     3.66 0.0221  0.4388 6.8812   True\n",
      "     3      8   4.4633  0.005  1.2422 7.6845   True\n",
      "     3      9   4.1567 0.0087  0.9355 7.3778   True\n",
      "     4      5   0.3667 0.9971  -1.911 2.6444  False\n",
      "     4      6   2.0575 0.0613 -0.0731 4.1881  False\n",
      "     4      7     3.15  0.005  0.8723 5.4277   True\n",
      "     4      8   3.9533 0.0007  1.6756  6.231   True\n",
      "     4      9   3.6467 0.0014   1.369 5.9244   True\n",
      "     5      6   1.6908  0.163 -0.4398 3.8214  False\n",
      "     5      7   2.7833 0.0132  0.5056  5.061   True\n",
      "     5      8   3.5867 0.0017   1.309 5.8644   True\n",
      "     5      9     3.28 0.0036  1.0023 5.5577   True\n",
      "     6      7   1.0925 0.5865 -1.0381 3.2231  False\n",
      "     6      8   1.8958 0.0953 -0.2348 4.0264  False\n",
      "     6      9   1.5892   0.21 -0.5414 3.7198  False\n",
      "     7      8   0.8033 0.8752 -1.4744  3.081  False\n",
      "     7      9   0.4967 0.9858  -1.781 2.7744  False\n",
      "     8      9  -0.3067 0.9989 -2.5844  1.971  False\n",
      "---------------------------------------------------\n"
     ]
    }
   ],
   "source": [
    "pH_tukey = pairwise_tukeyhsd(df['Viscosity'], df['pH'])\n",
    "print(pH_tukey)\n",
    "\n"
   ]
  },
  {
   "cell_type": "code",
   "execution_count": 15,
   "metadata": {},
   "outputs": [
    {
     "name": "stdout",
     "output_type": "stream",
     "text": [
      "Multiple Comparison of Means - Tukey HSD, FWER=0.05\n",
      "===================================================\n",
      "group1 group2 meandiff p-adj   lower  upper  reject\n",
      "---------------------------------------------------\n",
      "     3      4     0.51 0.9974 -2.7112 3.7312  False\n",
      "     3      5   0.8767 0.9586 -2.3445 4.0978  False\n",
      "     3      6   2.5675 0.1386 -0.5514 5.6864  False\n",
      "     3      7     3.66 0.0221  0.4388 6.8812   True\n",
      "     3      8   4.4633  0.005  1.2422 7.6845   True\n",
      "     3      9   4.1567 0.0087  0.9355 7.3778   True\n",
      "     4      5   0.3667 0.9971  -1.911 2.6444  False\n",
      "     4      6   2.0575 0.0613 -0.0731 4.1881  False\n",
      "     4      7     3.15  0.005  0.8723 5.4277   True\n",
      "     4      8   3.9533 0.0007  1.6756  6.231   True\n",
      "     4      9   3.6467 0.0014   1.369 5.9244   True\n",
      "     5      6   1.6908  0.163 -0.4398 3.8214  False\n",
      "     5      7   2.7833 0.0132  0.5056  5.061   True\n",
      "     5      8   3.5867 0.0017   1.309 5.8644   True\n",
      "     5      9     3.28 0.0036  1.0023 5.5577   True\n",
      "     6      7   1.0925 0.5865 -1.0381 3.2231  False\n",
      "     6      8   1.8958 0.0953 -0.2348 4.0264  False\n",
      "     6      9   1.5892   0.21 -0.5414 3.7198  False\n",
      "     7      8   0.8033 0.8752 -1.4744  3.081  False\n",
      "     7      9   0.4967 0.9858  -1.781 2.7744  False\n",
      "     8      9  -0.3067 0.9989 -2.5844  1.971  False\n",
      "---------------------------------------------------\n"
     ]
    }
   ],
   "source": [
    "Speed_tukey = pairwise_tukeyhsd(df['Viscosity'], df['pH'])\n",
    "print(Speed_tukey)"
   ]
  },
  {
   "cell_type": "code",
   "execution_count": 18,
   "metadata": {},
   "outputs": [],
   "source": [
    "# linear regression\n",
    "\n",
    "# x = df[['pH', 'Speed']]\n",
    "# x = sm.add_constant(x)\n",
    "# y = df['Viscosity']\n",
    "\n",
    "# model = sm.OLS(y, x).fit()\n",
    "\n",
    "# print(model.summary())"
   ]
  },
  {
   "cell_type": "code",
   "execution_count": 17,
   "metadata": {},
   "outputs": [
    {
     "data": {
      "text/plain": [
       "array([3, 6, 9, 4, 4, 5, 5, 6, 6, 7, 7, 8, 8, 9, 9, 4, 5, 6, 7, 8],\n",
       "      dtype=int64)"
      ]
     },
     "execution_count": 17,
     "metadata": {},
     "output_type": "execute_result"
    }
   ],
   "source": [
    "# leverage \n",
    "pH_array = df['pH'].to_numpy()\n",
    "levels = df['pH'].unique()\n",
    "pH_array"
   ]
  },
  {
   "cell_type": "code",
   "execution_count": 21,
   "metadata": {},
   "outputs": [],
   "source": [
    "# Design Matrix\n",
    "a = [1] * len(pH_array)  # create a list with same length of data_array\n",
    "D = np.column_stack([a, pH_array]) # create matrxi with 1st column:1 and 2nd column value"
   ]
  },
  {
   "cell_type": "code",
   "execution_count": 22,
   "metadata": {},
   "outputs": [],
   "source": [
    "D_T = D.T \n",
    "\n",
    "# D^T D \n",
    "D_T_D = np.dot(D_T, D)\n",
    "\n",
    "# inverse of D^T D\n",
    "D_T_D_inv = np.linalg.inv(D_T_D)\n",
    "\n",
    "# multiply (1)D (2)D^T D^(-1) (3)D^T\n",
    "H = np.dot(np.dot(D, D_T_D_inv), D_T)"
   ]
  },
  {
   "cell_type": "code",
   "execution_count": 34,
   "metadata": {},
   "outputs": [],
   "source": [
    "df_pH_sorted = df.sort_values('pH', ascending=False)\n",
    "pH_levels = df_pH_sorted['pH']"
   ]
  },
  {
   "cell_type": "code",
   "execution_count": 35,
   "metadata": {},
   "outputs": [
    {
     "data": {
      "image/png": "[encoded data removed]",
      "text/plain": [
       "<Figure size 640x480 with 1 Axes>"
      ]
     },
     "metadata": {},
     "output_type": "display_data"
    }
   ],
   "source": [
    "leverge = np.diagonal(H)\n",
    "plt.plot(pH_levels, leverge, 'o-', label='Original')\n",
    "plt.xlabel('Levels of pH')\n",
    "plt.ylabel('Leverage')\n",
    "plt.legend(loc = 'upper left', fontsize=20)\n",
    "plt.title('Leverage plot for pH')\n",
    "plt.show()"
   ]
  },
  {
   "cell_type": "code",
   "execution_count": null,
   "metadata": {},
   "outputs": [],
   "source": []
  }
 ],
 "metadata": {
  "kernelspec": {
   "display_name": "WinConda",
   "language": "python",
   "name": "python3"
  },
  "language_info": {
   "codemirror_mode": {
    "name": "ipython",
    "version": 3
   },
   "file_extension": ".py",
   "mimetype": "text/x-python",
   "name": "python",
   "nbconvert_exporter": "python",
   "pygments_lexer": "ipython3",
   "version": "3.12.5"
  }
 },
 "nbformat": 4,
 "nbformat_minor": 2
}
