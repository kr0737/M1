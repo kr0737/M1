{
 "cells": [
  {
   "cell_type": "code",
   "execution_count": 1,
   "metadata": {},
   "outputs": [],
   "source": [
    "\n",
    "import pandas as pd\n",
    "import numpy as np \n",
    "from statsmodels.formula.api import ols\n",
    "import scipy.stats as stats\n",
    "import matplotlib.pyplot as plt \n",
    "import math\n",
    "import statsmodels.api as sm \n",
    "from statsmodels.formula.api import ols\n",
    "import seaborn as sns "
   ]
  },
  {
   "cell_type": "code",
   "execution_count": 2,
   "metadata": {},
   "outputs": [],
   "source": [
    "# file_path = 'E:\\Year_2_Semester_1\\chemometrics\\Exercises\\M1\\New_M2\\Results\\New_M2_results.csv'\n",
    "df = pd.read_csv('New_M2_results.csv')"
   ]
  },
  {
   "cell_type": "code",
   "execution_count": 3,
   "metadata": {},
   "outputs": [
    {
     "data": {
      "text/html": [
       "<div>\n",
       "<style scoped>\n",
       "    .dataframe tbody tr th:only-of-type {\n",
       "        vertical-align: middle;\n",
       "    }\n",
       "\n",
       "    .dataframe tbody tr th {\n",
       "        vertical-align: top;\n",
       "    }\n",
       "\n",
       "    .dataframe thead th {\n",
       "        text-align: right;\n",
       "    }\n",
       "</style>\n",
       "<table border=\"1\" class=\"dataframe\">\n",
       "  <thead>\n",
       "    <tr style=\"text-align: right;\">\n",
       "      <th></th>\n",
       "      <th>Screen</th>\n",
       "      <th>pH</th>\n",
       "      <th>Speed</th>\n",
       "      <th>Viscosity</th>\n",
       "    </tr>\n",
       "  </thead>\n",
       "  <tbody>\n",
       "    <tr>\n",
       "      <th>0</th>\n",
       "      <td>1</td>\n",
       "      <td>3</td>\n",
       "      <td>20</td>\n",
       "      <td>-1.47</td>\n",
       "    </tr>\n",
       "    <tr>\n",
       "      <th>1</th>\n",
       "      <td>1</td>\n",
       "      <td>3</td>\n",
       "      <td>60</td>\n",
       "      <td>2.99</td>\n",
       "    </tr>\n",
       "    <tr>\n",
       "      <th>2</th>\n",
       "      <td>1</td>\n",
       "      <td>3</td>\n",
       "      <td>100</td>\n",
       "      <td>0.43</td>\n",
       "    </tr>\n",
       "    <tr>\n",
       "      <th>3</th>\n",
       "      <td>1</td>\n",
       "      <td>6</td>\n",
       "      <td>20</td>\n",
       "      <td>-4.22</td>\n",
       "    </tr>\n",
       "    <tr>\n",
       "      <th>4</th>\n",
       "      <td>1</td>\n",
       "      <td>6</td>\n",
       "      <td>60</td>\n",
       "      <td>4.68</td>\n",
       "    </tr>\n",
       "    <tr>\n",
       "      <th>5</th>\n",
       "      <td>1</td>\n",
       "      <td>6</td>\n",
       "      <td>100</td>\n",
       "      <td>0.59</td>\n",
       "    </tr>\n",
       "    <tr>\n",
       "      <th>6</th>\n",
       "      <td>1</td>\n",
       "      <td>9</td>\n",
       "      <td>20</td>\n",
       "      <td>-5.36</td>\n",
       "    </tr>\n",
       "    <tr>\n",
       "      <th>7</th>\n",
       "      <td>1</td>\n",
       "      <td>9</td>\n",
       "      <td>60</td>\n",
       "      <td>7.56</td>\n",
       "    </tr>\n",
       "    <tr>\n",
       "      <th>8</th>\n",
       "      <td>1</td>\n",
       "      <td>9</td>\n",
       "      <td>100</td>\n",
       "      <td>0.82</td>\n",
       "    </tr>\n",
       "    <tr>\n",
       "      <th>9</th>\n",
       "      <td>2</td>\n",
       "      <td>3</td>\n",
       "      <td>60</td>\n",
       "      <td>2.47</td>\n",
       "    </tr>\n",
       "    <tr>\n",
       "      <th>10</th>\n",
       "      <td>2</td>\n",
       "      <td>3</td>\n",
       "      <td>60</td>\n",
       "      <td>2.65</td>\n",
       "    </tr>\n",
       "    <tr>\n",
       "      <th>11</th>\n",
       "      <td>2</td>\n",
       "      <td>4</td>\n",
       "      <td>60</td>\n",
       "      <td>4.55</td>\n",
       "    </tr>\n",
       "    <tr>\n",
       "      <th>12</th>\n",
       "      <td>2</td>\n",
       "      <td>4</td>\n",
       "      <td>60</td>\n",
       "      <td>3.07</td>\n",
       "    </tr>\n",
       "    <tr>\n",
       "      <th>13</th>\n",
       "      <td>2</td>\n",
       "      <td>5</td>\n",
       "      <td>60</td>\n",
       "      <td>5.06</td>\n",
       "    </tr>\n",
       "    <tr>\n",
       "      <th>14</th>\n",
       "      <td>2</td>\n",
       "      <td>5</td>\n",
       "      <td>60</td>\n",
       "      <td>5.05</td>\n",
       "    </tr>\n",
       "    <tr>\n",
       "      <th>15</th>\n",
       "      <td>2</td>\n",
       "      <td>6</td>\n",
       "      <td>60</td>\n",
       "      <td>5.93</td>\n",
       "    </tr>\n",
       "    <tr>\n",
       "      <th>16</th>\n",
       "      <td>2</td>\n",
       "      <td>6</td>\n",
       "      <td>60</td>\n",
       "      <td>4.80</td>\n",
       "    </tr>\n",
       "    <tr>\n",
       "      <th>17</th>\n",
       "      <td>2</td>\n",
       "      <td>7</td>\n",
       "      <td>60</td>\n",
       "      <td>7.44</td>\n",
       "    </tr>\n",
       "    <tr>\n",
       "      <th>18</th>\n",
       "      <td>2</td>\n",
       "      <td>7</td>\n",
       "      <td>60</td>\n",
       "      <td>5.59</td>\n",
       "    </tr>\n",
       "    <tr>\n",
       "      <th>19</th>\n",
       "      <td>2</td>\n",
       "      <td>8</td>\n",
       "      <td>60</td>\n",
       "      <td>8.95</td>\n",
       "    </tr>\n",
       "    <tr>\n",
       "      <th>20</th>\n",
       "      <td>2</td>\n",
       "      <td>8</td>\n",
       "      <td>60</td>\n",
       "      <td>8.90</td>\n",
       "    </tr>\n",
       "    <tr>\n",
       "      <th>21</th>\n",
       "      <td>2</td>\n",
       "      <td>9</td>\n",
       "      <td>60</td>\n",
       "      <td>8.87</td>\n",
       "    </tr>\n",
       "    <tr>\n",
       "      <th>22</th>\n",
       "      <td>2</td>\n",
       "      <td>9</td>\n",
       "      <td>60</td>\n",
       "      <td>9.01</td>\n",
       "    </tr>\n",
       "    <tr>\n",
       "      <th>23</th>\n",
       "      <td>3</td>\n",
       "      <td>4</td>\n",
       "      <td>60</td>\n",
       "      <td>4.58</td>\n",
       "    </tr>\n",
       "    <tr>\n",
       "      <th>24</th>\n",
       "      <td>3</td>\n",
       "      <td>5</td>\n",
       "      <td>60</td>\n",
       "      <td>3.88</td>\n",
       "    </tr>\n",
       "    <tr>\n",
       "      <th>25</th>\n",
       "      <td>3</td>\n",
       "      <td>6</td>\n",
       "      <td>60</td>\n",
       "      <td>5.81</td>\n",
       "    </tr>\n",
       "    <tr>\n",
       "      <th>26</th>\n",
       "      <td>3</td>\n",
       "      <td>7</td>\n",
       "      <td>60</td>\n",
       "      <td>7.91</td>\n",
       "    </tr>\n",
       "    <tr>\n",
       "      <th>27</th>\n",
       "      <td>3</td>\n",
       "      <td>8</td>\n",
       "      <td>60</td>\n",
       "      <td>7.15</td>\n",
       "    </tr>\n",
       "  </tbody>\n",
       "</table>\n",
       "</div>"
      ],
      "text/plain": [
       "    Screen  pH  Speed  Viscosity\n",
       "0        1   3     20      -1.47\n",
       "1        1   3     60       2.99\n",
       "2        1   3    100       0.43\n",
       "3        1   6     20      -4.22\n",
       "4        1   6     60       4.68\n",
       "5        1   6    100       0.59\n",
       "6        1   9     20      -5.36\n",
       "7        1   9     60       7.56\n",
       "8        1   9    100       0.82\n",
       "9        2   3     60       2.47\n",
       "10       2   3     60       2.65\n",
       "11       2   4     60       4.55\n",
       "12       2   4     60       3.07\n",
       "13       2   5     60       5.06\n",
       "14       2   5     60       5.05\n",
       "15       2   6     60       5.93\n",
       "16       2   6     60       4.80\n",
       "17       2   7     60       7.44\n",
       "18       2   7     60       5.59\n",
       "19       2   8     60       8.95\n",
       "20       2   8     60       8.90\n",
       "21       2   9     60       8.87\n",
       "22       2   9     60       9.01\n",
       "23       3   4     60       4.58\n",
       "24       3   5     60       3.88\n",
       "25       3   6     60       5.81\n",
       "26       3   7     60       7.91\n",
       "27       3   8     60       7.15"
      ]
     },
     "execution_count": 3,
     "metadata": {},
     "output_type": "execute_result"
    }
   ],
   "source": [
    "# change response to viscosity\n",
    "df = df.rename(columns={'Response':'Viscosity'})\n",
    "df"
   ]
  },
  {
   "cell_type": "code",
   "execution_count": 4,
   "metadata": {},
   "outputs": [],
   "source": [
    "# convert it to csv\n",
    "Const_speed = df[df['Speed']==60].to_csv('Const_speed.csv', index=False)\n",
    "df = pd.read_csv('Const_speed.csv')"
   ]
  },
  {
   "cell_type": "code",
   "execution_count": 5,
   "metadata": {},
   "outputs": [
    {
     "data": {
      "image/png": "[encoded data removed]",
      "text/plain": [
       "<Figure size 640x480 with 1 Axes>"
      ]
     },
     "metadata": {},
     "output_type": "display_data"
    }
   ],
   "source": [
    "## test if normal distributed\n",
    "\n",
    "#histgram\n",
    "df['Viscosity'].hist(bins=10, edgecolor='black')\n",
    "plt.title('Distribution Plot of Viscosity')\n",
    "plt.xlabel('response')\n",
    "plt.ylabel('intensity')\n",
    "plt.show()\n"
   ]
  },
  {
   "cell_type": "code",
   "execution_count": 6,
   "metadata": {},
   "outputs": [
    {
     "name": "stdout",
     "output_type": "stream",
     "text": [
      "ShapiroResult(statistic=0.9293766802813064, pvalue=0.11908231932448521)\n"
     ]
    }
   ],
   "source": [
    "# Shapiro-wilks\n",
    "nor_result = stats.shapiro(df['Viscosity'])\n",
    "print(nor_result)"
   ]
  },
  {
   "cell_type": "markdown",
   "metadata": {},
   "source": [
    "P_value = 0.5611 greater than 0.05, the data is normally distributed. \n",
    "Use ANOVA test."
   ]
  },
  {
   "cell_type": "code",
   "execution_count": null,
   "metadata": {},
   "outputs": [],
   "source": []
  },
  {
   "cell_type": "code",
   "execution_count": 7,
   "metadata": {},
   "outputs": [],
   "source": [
    "# Extract each column from df\n",
    "pH = df['pH']\n",
    "Speed = df['Speed']"
   ]
  },
  {
   "cell_type": "code",
   "execution_count": 8,
   "metadata": {},
   "outputs": [
    {
     "name": "stdout",
     "output_type": "stream",
     "text": [
      "              sum_sq    df            F        PR(>F)\n",
      "pH        248.089987   1.0   389.440066  1.393996e-14\n",
      "Speed     731.982273   1.0  1149.031559  3.814524e-19\n",
      "pH:Speed   85.083471   1.0   133.560057  2.635753e-10\n",
      "Residual   12.740856  20.0          NaN           NaN\n"
     ]
    }
   ],
   "source": [
    "# create the model\n",
    "# syntax ols('dependent_variable ~ independent_variable', data=dataset).fit()\n",
    "model = ols('Viscosity ~ pH * Speed', data = df).fit()\n",
    "\n",
    "anova_result = sm.stats.anova_lm(model, typ=2)\n",
    "# anova_result_decimal = \"{:.10f}\".format(anova_result['PR(>F)'])\n",
    "# # p_value = \"{:.12f}\".format(p_value)\n",
    "\n",
    "# print(anova_result['PR(>F)'])\n",
    "print(anova_result)"
   ]
  },
  {
   "cell_type": "code",
   "execution_count": 9,
   "metadata": {},
   "outputs": [],
   "source": [
    "# plt.figure(figsize=(10, 12))\n",
    "    \n",
    "    \n",
    "# ax = plt.axes(111, projection='3d')\n",
    "# fg = ax.scatter3D(df['pH'], df['Speed'], df['Viscosity'], \n",
    "#                   cmap='coolwarm')\n",
    "\n",
    "# # Set axis labels and title\n",
    "# ax.set_xlabel('pH', fontweight='bold', fontsize=12)\n",
    "# ax.set_ylabel('Speed', fontweight='bold',fontsize=12)\n",
    "# ax.set_zlabel('Viscosity', fontweight='bold',fontsize=12)\n",
    "# plt.title('3D plot')\n",
    "# # Set angle in case zlabel can't show\n",
    "# ax.view_init(elev=20, azim=30)\n",
    "# plt.tight_layout()\n",
    "# # Display the plot\n",
    "# plt.show()"
   ]
  },
  {
   "cell_type": "code",
   "execution_count": 10,
   "metadata": {},
   "outputs": [
    {
     "data": {
      "image/png": "[encoded data removed]",
      "text/plain": [
       "<Figure size 600x400 with 1 Axes>"
      ]
     },
     "metadata": {},
     "output_type": "display_data"
    }
   ],
   "source": [
    "plt.figure(figsize=(6,4))\n",
    "sns.barplot(data=df, x='pH', y='Viscosity', errorbar='sd', capsize=0.1)\n",
    "plt.show()"
   ]
  },
  {
   "cell_type": "code",
   "execution_count": 11,
   "metadata": {},
   "outputs": [],
   "source": [
    "from scipy.stats import ttest_ind\n",
    "from itertools import combinations"
   ]
  },
  {
   "cell_type": "code",
   "execution_count": 12,
   "metadata": {},
   "outputs": [
    {
     "name": "stdout",
     "output_type": "stream",
     "text": [
      "T-test of variable: pH\n",
      "3 vs 6: t_statistic: -6.367865049308927\n",
      "3 vs 6: p_value: 0.00141\n",
      "3 vs 9: t_statistic: -11.879061758212012\n",
      "3 vs 9: p_value: 0.00029\n",
      "3 vs 4: t_statistic: -2.6157290626483456\n",
      "No significant difference\n",
      "3 vs 5: t_statistic: -4.663289970667189\n",
      "3 vs 5: p_value: 0.00957\n",
      "3 vs 7: t_statistic: -5.904172891584764\n",
      "3 vs 7: p_value: 0.00412\n",
      "3 vs 8: t_statistic: -9.211920313399798\n",
      "3 vs 8: p_value: 0.00077\n",
      "6 vs 9: t_statistic: -5.797551778283328\n",
      "6 vs 9: p_value: 0.00215\n",
      "6 vs 4: t_statistic: 2.1737210907598743\n",
      "No significant difference\n",
      "6 vs 5: t_statistic: 1.2631834588374138\n",
      "No significant difference\n",
      "6 vs 7: t_statistic: -2.3648970457711713\n",
      "No significant difference\n",
      "6 vs 8: t_statistic: -4.813272898287871\n",
      "6 vs 8: p_value: 0.00483\n",
      "9 vs 4: t_statistic: 6.4955050331664745\n",
      "9 vs 4: p_value: 0.00290\n",
      "9 vs 5: t_statistic: 6.3032085645626745\n",
      "9 vs 5: p_value: 0.00324\n",
      "9 vs 7: t_statistic: 1.774350837777687\n",
      "No significant difference\n",
      "9 vs 8: t_statistic: 0.19538003357638203\n",
      "No significant difference\n",
      "4 vs 5: t_statistic: -0.9412712647532793\n",
      "No significant difference\n",
      "4 vs 7: t_statistic: -3.3643764848732545\n",
      "4 vs 7: p_value: 0.02819\n",
      "4 vs 8: t_statistic: -5.514271128016036\n",
      "4 vs 8: p_value: 0.00528\n",
      "5 vs 7: t_statistic: -2.862822858121182\n",
      "5 vs 7: p_value: 0.04580\n",
      "5 vs 8: t_statistic: -5.171123130123178\n",
      "5 vs 8: p_value: 0.00665\n",
      "7 vs 8: t_statistic: -1.4664208347010863\n",
      "No significant difference\n"
     ]
    }
   ],
   "source": [
    "# post-hoc with T-test\n",
    "\n",
    "levels = df['pH'].unique()\n",
    "print(f'T-test of variable: pH')\n",
    "for level1, level2 in combinations(levels, 2):\n",
    "  group1 = df[df['pH'] == level1]['Viscosity'] \n",
    "  group2 = df[df['pH'] == level2]['Viscosity']\n",
    "  t_stat, p_value = ttest_ind(group1, group2)\n",
    "  print(f\"{level1} vs {level2}: t_statistic: {t_stat}\")\n",
    "  if p_value < 0.05:\n",
    "    print(f\"{level1} vs {level2}: p_value: {p_value:.5f}\")\n",
    "  else:\n",
    "    print('No significant difference')"
   ]
  },
  {
   "cell_type": "code",
   "execution_count": 13,
   "metadata": {},
   "outputs": [],
   "source": [
    "# post-hoc with Tukry HSD Test\n",
    "from statsmodels.stats.multicomp import pairwise_tukeyhsd"
   ]
  },
  {
   "cell_type": "code",
   "execution_count": 14,
   "metadata": {},
   "outputs": [
    {
     "name": "stdout",
     "output_type": "stream",
     "text": [
      "Multiple Comparison of Means - Tukey HSD, FWER=0.05\n",
      "===================================================\n",
      "group1 group2 meandiff p-adj   lower  upper  reject\n",
      "---------------------------------------------------\n",
      "     3      4   1.3633 0.4411 -0.9167 3.6433  False\n",
      "     3      5     1.96 0.1164   -0.32   4.24  False\n",
      "     3      6   2.6017 0.0124  0.4689 4.7344   True\n",
      "     3      7   4.2767 0.0002  1.9967 6.5567   True\n",
      "     3      8     5.63    0.0    3.35   7.91   True\n",
      "     3      9   5.7767    0.0  3.4967 8.0567   True\n",
      "     4      5   0.5967 0.9695 -1.6833 2.8767  False\n",
      "     4      6   1.2383 0.4733 -0.8944 3.3711  False\n",
      "     4      7   2.9133 0.0086  0.6333 5.1933   True\n",
      "     4      8   4.2667 0.0002  1.9867 6.5467   True\n",
      "     4      9   4.4133 0.0002  2.1333 6.6933   True\n",
      "     5      6   0.6417  0.942 -1.4911 2.7744  False\n",
      "     5      7   2.3167 0.0452  0.0367 4.5967   True\n",
      "     5      8     3.67 0.0011    1.39   5.95   True\n",
      "     5      9   3.8167 0.0007  1.5367 6.0967   True\n",
      "     6      7    1.675 0.1771 -0.4577 3.8077  False\n",
      "     6      8   3.0283 0.0035  0.8956 5.1611   True\n",
      "     6      9    3.175 0.0022  1.0423 5.3077   True\n",
      "     7      8   1.3533 0.4492 -0.9267 3.6333  False\n",
      "     7      9      1.5 0.3387   -0.78   3.78  False\n",
      "     8      9   0.1467    1.0 -2.1333 2.4267  False\n",
      "---------------------------------------------------\n"
     ]
    }
   ],
   "source": [
    "pH_tukey = pairwise_tukeyhsd(df['Viscosity'], df['pH'])\n",
    "print(pH_tukey)\n",
    "\n"
   ]
  },
  {
   "cell_type": "code",
   "execution_count": 15,
   "metadata": {},
   "outputs": [],
   "source": [
    "# linear regression\n",
    "\n",
    "# x = df[['pH', 'Speed']]\n",
    "# x = sm.add_constant(x)\n",
    "# y = df['Viscosity']\n",
    "\n",
    "# model = sm.OLS(y, x).fit()\n",
    "\n",
    "# print(model.summary())"
   ]
  },
  {
   "cell_type": "code",
   "execution_count": 16,
   "metadata": {},
   "outputs": [
    {
     "data": {
      "text/plain": [
       "2     9\n",
       "16    9\n",
       "15    9\n",
       "21    8\n",
       "14    8\n",
       "13    8\n",
       "12    7\n",
       "20    7\n",
       "11    7\n",
       "9     6\n",
       "10    6\n",
       "1     6\n",
       "19    6\n",
       "8     5\n",
       "7     5\n",
       "18    5\n",
       "6     4\n",
       "5     4\n",
       "17    4\n",
       "4     3\n",
       "3     3\n",
       "0     3\n",
       "Name: pH, dtype: int64"
      ]
     },
     "execution_count": 16,
     "metadata": {},
     "output_type": "execute_result"
    }
   ],
   "source": [
    "## change the order of pH from 9 to 3\n",
    "df_pH_sorted = df.sort_values('pH', ascending=False)\n",
    "pH_levels = df_pH_sorted['pH']\n",
    "pH_levels"
   ]
  },
  {
   "cell_type": "code",
   "execution_count": 17,
   "metadata": {},
   "outputs": [
    {
     "data": {
      "text/plain": [
       "array([9, 9, 9, 8, 8, 8, 7, 7, 7, 6, 6, 6, 6, 5, 5, 5, 4, 4, 4, 3, 3, 3],\n",
       "      dtype=int64)"
      ]
     },
     "execution_count": 17,
     "metadata": {},
     "output_type": "execute_result"
    }
   ],
   "source": [
    "# leverage \n",
    "pH_array = df_pH_sorted['pH'].to_numpy()\n",
    "pH_array"
   ]
  },
  {
   "cell_type": "code",
   "execution_count": 18,
   "metadata": {},
   "outputs": [],
   "source": [
    "# Design Matrix\n",
    "a = [1] * len(pH_array)  # create a list with same length of data_array\n",
    "D = np.column_stack([a, pH_array]) # create matrxi with 1st column:1 and 2nd column value"
   ]
  },
  {
   "cell_type": "code",
   "execution_count": 19,
   "metadata": {},
   "outputs": [],
   "source": [
    "D_T = D.T \n",
    "\n",
    "# D^T D \n",
    "D_T_D = np.dot(D_T, D)\n",
    "\n",
    "# inverse of D^T D\n",
    "D_T_D_inv = np.linalg.inv(D_T_D)\n",
    "\n",
    "# multiply (1)D (2)D^T D^(-1) (3)D^T\n",
    "H = np.dot(np.dot(D, D_T_D_inv), D_T)"
   ]
  },
  {
   "cell_type": "code",
   "execution_count": null,
   "metadata": {},
   "outputs": [],
   "source": []
  },
  {
   "cell_type": "code",
   "execution_count": 20,
   "metadata": {},
   "outputs": [
    {
     "name": "stderr",
     "output_type": "stream",
     "text": [
      "C:\\Users\\Yao_L\\AppData\\Local\\Temp\\ipykernel_41744\\333570114.py:6: UserWarning: No artists with labels found to put in legend.  Note that artists whose label start with an underscore are ignored when legend() is called with no argument.\n",
      "  plt.legend(fontsize=10)\n"
     ]
    },
    {
     "data": {
      "image/png": "[encoded data removed]",
      "text/plain": [
       "<Figure size 800x600 with 1 Axes>"
      ]
     },
     "metadata": {},
     "output_type": "display_data"
    }
   ],
   "source": [
    "leverge = np.diagonal(H)\n",
    "plt.figure(figsize=(8, 6))\n",
    "plt.plot(pH_levels, leverge, 'o-')\n",
    "plt.xlabel('Levels of pH')\n",
    "plt.ylabel('Leverage')\n",
    "plt.legend(fontsize=10)\n",
    "plt.title('Leverage plot for pH')\n",
    "plt.show()"
   ]
  },
  {
   "cell_type": "code",
   "execution_count": 21,
   "metadata": {},
   "outputs": [],
   "source": []
  }
 ],
 "metadata": {
  "kernelspec": {
   "display_name": "WinConda",
   "language": "python",
   "name": "python3"
  },
  "language_info": {
   "codemirror_mode": {
    "name": "ipython",
    "version": 3
   },
   "file_extension": ".py",
   "mimetype": "text/x-python",
   "name": "python",
   "nbconvert_exporter": "python",
   "pygments_lexer": "ipython3",
   "version": "3.12.5"
  }
 },
 "nbformat": 4,
 "nbformat_minor": 2
}
